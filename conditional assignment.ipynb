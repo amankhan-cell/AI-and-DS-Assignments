{
 "cells": [
  {
   "cell_type": "markdown",
   "id": "8e8fb13c-3d6e-47be-bbca-019980e8d59f",
   "metadata": {},
   "source": [
    "# Conditional Structures "
   ]
  },
  {
   "cell_type": "markdown",
   "id": "7417de64-23bb-4457-a7cf-7b1885156a5b",
   "metadata": {},
   "source": [
    "### 1. Write a program that prompts the user to input a number and display if the number is even or odd"
   ]
  },
  {
   "cell_type": "code",
   "execution_count": 2,
   "id": "2d48d812-a6f3-43f6-a75b-7728dfe1b474",
   "metadata": {},
   "outputs": [
    {
     "name": "stdout",
     "output_type": "stream",
     "text": [
      "Enter rhe number: 648\n"
     ]
    },
    {
     "name": "stdout",
     "output_type": "stream",
     "text": [
      "the number is even\n"
     ]
    }
   ],
   "source": [
    "number = int(input(\"Enter rhe number:\"))\n",
    "if number % 2 ==0:\n",
    "    print('the number is even')\n",
    "else:\n",
    "    print(\"the number is odd\")"
   ]
  },
  {
   "cell_type": "markdown",
   "id": "c4972c4f-d625-4807-8360-b6f1319435c0",
   "metadata": {},
   "source": [
    "###   2. Write a Python program that takes an age as input and determines whether a person \n",
    "is eligible to vote. If the age is 18 r  above, print \"You are eligible to vote.\" Otherwise \n",
    "print \"You are not eligible to vote yetr t"
   ]
  },
  {
   "cell_type": "code",
   "execution_count": 3,
   "id": "cc43f933-1901-4bd8-b377-28cd4445efed",
   "metadata": {},
   "outputs": [
    {
     "name": "stdout",
     "output_type": "stream",
     "text": [
      "Enter your age 21.5\n"
     ]
    },
    {
     "name": "stdout",
     "output_type": "stream",
     "text": [
      "you are eligible to cast vote\n"
     ]
    }
   ],
   "source": [
    "age = float(input(\"Enter your age\"))\n",
    "if age >= 18:\n",
    "    print(\"you are eligible to cast vote\")\n",
    "else:\n",
    "    print(\"you are not elisgible to cast vote\")"
   ]
  },
  {
   "cell_type": "markdown",
   "id": "db6b4ab0-75ed-4c8b-920e-cd322dffa971",
   "metadata": {},
   "source": [
    "### 3. Write a program that prompts the user to input two integers and outputs the largest. "
   ]
  },
  {
   "cell_type": "code",
   "execution_count": 6,
   "id": "2f340472-bff1-4d10-94fa-06278edabe25",
   "metadata": {},
   "outputs": [
    {
     "name": "stdout",
     "output_type": "stream",
     "text": [
      "Enter the first number: 45\n",
      "Enter the second number: 46\n"
     ]
    },
    {
     "name": "stdout",
     "output_type": "stream",
     "text": [
      "the greater number is 46:\n"
     ]
    }
   ],
   "source": [
    "num1 = int(input(\"Enter the first number:\"))\n",
    "num2 = int(input(\"Enter the second number:\"))\n",
    "if num1>num2:\n",
    "    print(f\"the greater number is {num1}:\")\n",
    "elif num1<num2:\n",
    "    print(f\"the greater number is {num2}:\")\n",
    "else:\n",
    "    print(\"both number are equal to each other\")"
   ]
  },
  {
   "cell_type": "markdown",
   "id": "f756a9a9-f042-4ee1-9175-fc460e3eb034",
   "metadata": {},
   "source": [
    "### 4. write a program that prompts the user to enter a number and determines whether it\n",
    "is positive, negative, or zero. The program should print \"Positive\" if the number is\n",
    "greater than 0, \"Negative\" if the number is less than 0, and \"Zero\" if the number is 0. "
   ]
  },
  {
   "cell_type": "code",
   "execution_count": 8,
   "id": "ab9c9bc3-5c03-489d-a042-8710b3870405",
   "metadata": {},
   "outputs": [
    {
     "name": "stdout",
     "output_type": "stream",
     "text": [
      "Enter the number: -6666678\n"
     ]
    },
    {
     "name": "stdout",
     "output_type": "stream",
     "text": [
      "the number is negative\n"
     ]
    }
   ],
   "source": [
    "number = float(input(\"Enter the number:\"))\n",
    "if number>0:\n",
    "    print(\"the number is positive\")\n",
    "elif number<0:\n",
    "    print(\"the number is negative\")\n",
    "else:\n",
    "    print(\"the number is zero\")"
   ]
  },
  {
   "cell_type": "markdown",
   "id": "85e7234c-e372-41d3-8cd9-0282f7df09a9",
   "metadata": {},
   "source": [
    "### 5.write a program that prompts the user to enter their age and prints the\n",
    "corresponding age group. The program should use the following age groups:\n",
    "0-12: Child\n",
    "13-19: Teenager\n",
    "20-59: Adult\n",
    "60 and above: Senior Citizentizen"
   ]
  },
  {
   "cell_type": "code",
   "execution_count": 12,
   "id": "150d1a9f-ada6-4634-b8bd-c6f7495c7110",
   "metadata": {},
   "outputs": [
    {
     "name": "stdout",
     "output_type": "stream",
     "text": [
      "Enter your age: 21\n"
     ]
    },
    {
     "name": "stdout",
     "output_type": "stream",
     "text": [
      "your age group is Adult\n"
     ]
    }
   ],
   "source": [
    "age = float(input(\"Enter your age:\"))\n",
    "if age <= 0:\n",
    "    print(\"your age group is child\")\n",
    "elif 13<=age<=19:\n",
    "    print(\"your age group is teenager\")\n",
    "elif 20<=age<=59:\n",
    "    print(\"your age group is Adult\")\n",
    "else:\n",
    "    print(\"you are a senior citizen\")"
   ]
  },
  {
   "cell_type": "markdown",
   "id": "ba6a6137-9da9-422f-8462-36558dbdbec8",
   "metadata": {},
   "source": [
    "### 6.Write a program that prompts the user to input a number from 1 to 7. The program\n",
    "should display the corresponding day for the given number. For example, if the user\n",
    "types 1, the output should be Sunday. If the user types 7, the output should be\n",
    "Saturday. If the number is not between 1 to 7 user should get error message as shown\n",
    "in sample output "
   ]
  },
  {
   "cell_type": "code",
   "execution_count": 15,
   "id": "6d586ceb-da6a-4528-a4ec-65d38061e0ca",
   "metadata": {},
   "outputs": [
    {
     "name": "stdout",
     "output_type": "stream",
     "text": [
      "Enter a number from 1 to 7:  6\n"
     ]
    },
    {
     "name": "stdout",
     "output_type": "stream",
     "text": [
      "The day corresponding to 6 is Friday\n"
     ]
    }
   ],
   "source": [
    "day_number = int(input(\"Enter a number from 1 to 7: \"))\n",
    "days_of_week = {\n",
    "    1: \"Sunday\",\n",
    "    2: \"Monday\",\n",
    "    3: \"Tuesday\",\n",
    "    4: \"Wednesday\",\n",
    "    5: \"Thursday\",\n",
    "    6: \"Friday\",\n",
    "    7: \"Saturday\"}\n",
    "if day_number in days_of_week:\n",
    "    print(\"The day corresponding to\", day_number, \"is\", days_of_week[day_number])\n",
    "else:\n",
    "    print(\"Error: Please enter a number between 1 and 7.\")"
   ]
  },
  {
   "cell_type": "markdown",
   "id": "9a5f3cbc-e763-4a24-b9bf-9a5798f609b5",
   "metadata": {},
   "source": [
    "### 7. Write a program that prompts the user to enter their weight (in kilograms) and height (in meters). The program should calculate the Body Mass Index (BMI) using the formula: BMI = weight / (height * height). The program should then classify the BMI into one of the following categories: \n",
    "less than 18.5 - Underweight \n",
    "BMI between 18.5 and 24.9 - Normal weight \n",
    "BMI between 25 and 29.9 - Overweight \n",
    "BMI 30 or greater - Obesity "
   ]
  },
  {
   "cell_type": "code",
   "execution_count": 20,
   "id": "06640e61-40cf-49d6-98a7-6194ff76dad5",
   "metadata": {},
   "outputs": [
    {
     "name": "stdout",
     "output_type": "stream",
     "text": [
      "Enter your weight in kg: 78\n",
      "Enter your heigh in meters: 1.8\n"
     ]
    },
    {
     "name": "stdout",
     "output_type": "stream",
     "text": [
      "your BMI is Normal weight\n"
     ]
    }
   ],
   "source": [
    "weight = float(input(\"Enter your weight in kg:\"))\n",
    "height = float(input(\"Enter your heigh in meters:\"))\n",
    "BMI = weight/(height*height)\n",
    "if BMI < 18.5:\n",
    "    print(\"your BMI is Underweight\")\n",
    "elif 18.5 < BMI < 24.5:\n",
    "    print(\"your BMI is Normal weight\")\n",
    "elif 25 < BMI < 29.9:\n",
    "    print(\"your BMI is Overweight\")\n",
    "else:\n",
    "    print(\"your BMI is Obsity\")"
   ]
  },
  {
   "cell_type": "markdown",
   "id": "1296e532-fd65-4d1a-b8c9-95700c31b467",
   "metadata": {},
   "source": [
    "### 8. The marks obtained by a student in 3 different subjects are input by the user. Your \n",
    "program should calculate the average of subjects and display the grade. The studen \n",
    "gets a grade as per the following rules\n",
    "Average Grade\n",
    "90-100  , A\n",
    "80-89 ,  B\n",
    "70 C , \n",
    "60-69 D ,  \n",
    "0-59 F ,9 C: "
   ]
  },
  {
   "cell_type": "code",
   "execution_count": 25,
   "id": "597a0abd-b37e-47b2-980a-6f075f240184",
   "metadata": {},
   "outputs": [
    {
     "name": "stdout",
     "output_type": "stream",
     "text": [
      "Enter the marks of subject one: 78\n",
      "Enter the marks of subject two: 90\n",
      "Enter the marks of subject three: 89\n"
     ]
    },
    {
     "name": "stdout",
     "output_type": "stream",
     "text": [
      "your grade is 'B'\n"
     ]
    }
   ],
   "source": [
    "sub1 = float(input(\"Enter the marks of subject one:\"))\n",
    "sub2 = float(input(\"Enter the marks of subject two:\"))\n",
    "sub3 = float(input(\"Enter the marks of subject three:\"))\n",
    "avr_of_sub = sub1 + sub2 + sub3\n",
    "grade = (avr_of_sub/300)*100\n",
    "if grade > 90:\n",
    "    print(\"your grade is 'A'\")\n",
    "elif 80 <= grade <= 89:\n",
    "    print(\"your grade is 'B'\")\n",
    "elif 70 <= grade <= 79:\n",
    "    print(\"your grade is 'C'\")\n",
    "elif 60 <= grade <= 69:\n",
    "    print(\"your grade is 'D'\")\n",
    "else:\n",
    "    print(\"your are fail in term\")"
   ]
  },
  {
   "cell_type": "markdown",
   "id": "2d818f0c-23a0-484b-879d-190422158c62",
   "metadata": {},
   "source": [
    "### 9. The roots of the quadratic equation ax2\n",
    " + bx + c = 0, a ≠ 0 are given by the following\n",
    "formul (-b+/-(b**2 -4bc))/2aa:\n",
    "In this formula, the term b2\n",
    " - 4ac is called the discriminant. If b2\n",
    " - 4ac = 0, then the\n",
    "equation has two equal roots.\n",
    "If b2\n",
    " - 4ac > 0, the equation has two real roots. If b2\n",
    " - 4ac < 0, the equation has two\n",
    "complex roots.\n",
    "Write a program that prompts the user to input the value of a (the coeffiient of x2\n",
    "), b\n",
    "(the coefficient of x), and c (the constant term) and outputs the roots of the quadra program that p"
   ]
  },
  {
   "cell_type": "code",
   "execution_count": 33,
   "id": "347aeab8-05e2-4f3d-ba2f-cac1ef7605ee",
   "metadata": {},
   "outputs": [
    {
     "name": "stdout",
     "output_type": "stream",
     "text": [
      "Enter the coefficient a (for x^2):  8\n",
      "Enter the coefficient b (for x):  4\n",
      "Enter the constant term c:  12\n"
     ]
    },
    {
     "name": "stdout",
     "output_type": "stream",
     "text": [
      "The equation has complex roots.\n",
      "Root 1: -0.25 + 1.1989578808281798i\n",
      "Root 2: -0.25 - 1.1989578808281798i\n"
     ]
    }
   ],
   "source": [
    "a = float(input(\"Enter the coefficient a (for x^2): \"))\n",
    "b = float(input(\"Enter the coefficient b (for x): \"))\n",
    "c = float(input(\"Enter the constant term c: \"))\n",
    "A = b**2 - (4*a*c)\n",
    "if A > 0:\n",
    "    root1 = (-b + (A)**0.5) / (2 * a)\n",
    "    root2 = (-b - (A)**0.5) / (2 * a)\n",
    "    print(\"The equation has two real and distinct roots.\")\n",
    "    print(f\"Root 1: {root1}\")\n",
    "    print(f\"Root 2: {root2}\")\n",
    "elif A == 0:\n",
    "    root = -b / (2 * a)\n",
    "    print(\"The equation has two equal real roots.\")\n",
    "    print(f\"Root: {root}\")\n",
    "else:\n",
    "    real_part = -b / (2 * a)\n",
    "    imaginary_part = (abs(A))**0.5 / (2 * a)\n",
    "    print(\"The equation has complex roots.\")\n",
    "    print(f\"Root 1: {real_part} + {imaginary_part}i\")\n",
    "    print(f\"Root 2: {real_part} - {imaginary_part}i\")\n"
   ]
  },
  {
   "cell_type": "markdown",
   "id": "38dfc26b",
   "metadata": {},
   "source": [
    "### 10.Write a program that prompts the user to enter three numbers and sorts them in ascending order. The program should print the sorted numbers."
   ]
  },
  {
   "cell_type": "code",
   "execution_count": 3,
   "id": "2848294e",
   "metadata": {},
   "outputs": [
    {
     "name": "stdout",
     "output_type": "stream",
     "text": [
      "the numbers is ascending order are: [6.0, 8.0, 50.0]\n"
     ]
    }
   ],
   "source": [
    "num1 = float(input(\"Enter first numbers:\"))\n",
    "num2 = float(input(\"Enter second numbers:\"))\n",
    "num3 = float(input(\"Enter third numbers:\"))\n",
    "\n",
    "numbers =  [num1, num2, num3]\n",
    "\n",
    "numbers.sort()\n",
    "\n",
    "print(\"the numbers is ascending order are:\", numbers)"
   ]
  },
  {
   "cell_type": "markdown",
   "id": "a5d24b95",
   "metadata": {},
   "source": [
    "### 11. Write a program that prompts the user to input three integers and outputs the largest"
   ]
  },
  {
   "cell_type": "code",
   "execution_count": 6,
   "id": "22065b68",
   "metadata": {},
   "outputs": [
    {
     "name": "stdout",
     "output_type": "stream",
     "text": [
      "the largest number is: 567788\n"
     ]
    }
   ],
   "source": [
    "num1 = int(input(\"Enter first numbers:\"))\n",
    "num2 = int(input(\"Enter second numbers:\"))\n",
    "num3 = int(input(\"Enter third numbers:\"))\n",
    "largest = max(num1, num2, num3)\n",
    "print(\"the largest number is:\", largest)"
   ]
  },
  {
   "cell_type": "markdown",
   "id": "55a73d01",
   "metadata": {},
   "source": [
    "### 12. Write a program that prompts the user to input a character and determine the character is vowel or consonant. "
   ]
  },
  {
   "cell_type": "code",
   "execution_count": 7,
   "id": "15825772",
   "metadata": {},
   "outputs": [
    {
     "name": "stdout",
     "output_type": "stream",
     "text": [
      "the character 'e' is a vowel.\n"
     ]
    }
   ],
   "source": [
    "character = input(\"Enter a single character:\").lower()\n",
    "if len(character) == 1 and character.isalpha():\n",
    "    if character in \"aeiou\":\n",
    "        print(f\"the character '{character}' is a vowel.\")\n",
    "    else:\n",
    "        print(f\"the chaacter '{character}' is a consonant.\")\n",
    "else:\n",
    "    Pern(\"invalid input! please enter a single alphabetic character.\")"
   ]
  },
  {
   "cell_type": "markdown",
   "id": "f15526b6",
   "metadata": {},
   "source": [
    "### 13. Write a program that prompts the user to input a year and determine whether the year is a leap year or not. Leap Years are any year that can be evenly divided by 4. A year that is evenly divisible by 100 is a leap year only if it is also evenly divisible by 400. Example: \n",
    "1992 Leap Year,  \n",
    "2000 Leap Year,  \n",
    "1900 NOT a Leap Year,  \n",
    "1995 NOT a Leap Year, \n"
   ]
  },
  {
   "cell_type": "code",
   "execution_count": 12,
   "id": "34bdb20d",
   "metadata": {},
   "outputs": [
    {
     "name": "stdout",
     "output_type": "stream",
     "text": [
      "1988 is a leap year.\n"
     ]
    }
   ],
   "source": [
    "year = int(input(\"Enter a year:\"))\n",
    "if (year % 4 == 0 and year % 100 != 0) or (year % 400 == 0 ):\n",
    "    print(f\"{year} is a leap year.\")\n",
    "else:\n",
    "    print(f\"{year} is not a leap year.\")"
   ]
  },
  {
   "cell_type": "markdown",
   "id": "ead36c61",
   "metadata": {},
   "source": [
    "### 14. Write a program that prompts the user to input number of calls and calculate the monthly telephone bills as per the following rule: \n",
    "Minimum Rs. 200 for up to 100 calls.,  \n",
    "Plus Rs. 0.60 per call for next 50 calls.,   \n",
    "Plus Rs. 0.50 per call for next 50 calls.,  \n",
    "Plus Rs. 0.40 per call for any call beyond 200 calls., "
   ]
  },
  {
   "cell_type": "code",
   "execution_count": 1,
   "id": "b406bf76",
   "metadata": {},
   "outputs": [
    {
     "name": "stdout",
     "output_type": "stream",
     "text": [
      "the monthly telephone bill is: RS 200\n"
     ]
    }
   ],
   "source": [
    "calls = int(input(\"Enter the number of calls made:\"))\n",
    "if calls <= 200:\n",
    "    bill = 200\n",
    "elif calls <= 250:\n",
    "    bill = 200 + (calls - 200 ) * 0.60\n",
    "elif calls <= 300:\n",
    "    bill = 200 + (50 * 0.60) + (calls - 250) * 0.50\n",
    "else:\n",
    "    bill = 200 + (50 * 0.60) + (50 * 0.50) + (calls - 300) * 0.40\n",
    "\n",
    "print(f\"the monthly telephone bill is: RS {bill}\")"
   ]
  },
  {
   "cell_type": "code",
   "execution_count": 6,
   "id": "86fea382",
   "metadata": {},
   "outputs": [
    {
     "name": "stdout",
     "output_type": "stream",
     "text": [
      "hi\n"
     ]
    }
   ],
   "source": [
    "print(\"hi\")"
   ]
  },
  {
   "cell_type": "code",
   "execution_count": 13,
   "id": "9d7c39d2",
   "metadata": {},
   "outputs": [
    {
     "name": "stdout",
     "output_type": "stream",
     "text": [
      "amankhan\n"
     ]
    }
   ],
   "source": [
    "name = \"aman\"\n",
    "Name = \"khan\"\n",
    "full_name = name+ Name\n",
    "print(full_name)"
   ]
  },
  {
   "cell_type": "code",
   "execution_count": null,
   "id": "49383a5d",
   "metadata": {},
   "outputs": [],
   "source": []
  }
 ],
 "metadata": {
  "kernelspec": {
   "display_name": "Python 3 (ipykernel)",
   "language": "python",
   "name": "python3"
  },
  "language_info": {
   "codemirror_mode": {
    "name": "ipython",
    "version": 3
   },
   "file_extension": ".py",
   "mimetype": "text/x-python",
   "name": "python",
   "nbconvert_exporter": "python",
   "pygments_lexer": "ipython3",
   "version": "3.12.4"
  }
 },
 "nbformat": 4,
 "nbformat_minor": 5
}

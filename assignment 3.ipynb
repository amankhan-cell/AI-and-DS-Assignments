{
 "cells": [
  {
   "cell_type": "markdown",
   "id": "491a970e-0dd7-4630-86a8-61749590796e",
   "metadata": {},
   "source": [
    "# A- Discounts and Pricing \r"
   ]
  },
  {
   "cell_type": "markdown",
   "id": "05c99cc3-1f0a-4140-b9f0-739acf7b1087",
   "metadata": {},
   "source": [
    "### 1. Check Discount Eligibility\r\n",
    "Write a program to check if a customer is eligible for a discount. If the total purchase is\r\n",
    "more than $100, apply a 10% discount and display the final price. Otherwise, display the\r\n",
    "total price as it is. \r"
   ]
  },
  {
   "cell_type": "code",
   "execution_count": 2,
   "id": "a869449a-8e97-4558-9150-43c6b54020ab",
   "metadata": {},
   "outputs": [
    {
     "name": "stdout",
     "output_type": "stream",
     "text": [
      "dicount applied! final price is:13500.0\n"
     ]
    }
   ],
   "source": [
    "total_purchase = 15000\n",
    "if total_purchase >= 15000:\n",
    "    discount = 0.10 * total_purchase\n",
    "    final_price = total_purchase - discount\n",
    "    print(f\"dicount applied! final price is:{final_price}\")\n",
    "else:\n",
    "    print(f\"no discound appied! total price is:{total_purchase}\")"
   ]
  },
  {
   "cell_type": "code",
   "execution_count": 4,
   "id": "8ba684a6-d2cc-4849-9a6e-501dddd6682d",
   "metadata": {},
   "outputs": [
    {
     "name": "stdout",
     "output_type": "stream",
     "text": [
      "no discound appied total price is:1500\n"
     ]
    }
   ],
   "source": [
    "total_purchase = 1500\n",
    "if total_purchase >= 15000:\n",
    "    discount = 0.10 * total_purchase\n",
    "    final_price = total_purchase - discount\n",
    "    print(f\"dicount applied final price is:{final_price}\")\n",
    "else:\n",
    "    print(f\"no discound appied total price is:{total_purchase}\")"
   ]
  },
  {
   "cell_type": "markdown",
   "id": "6b14e368-bc1e-4b72-9884-ef11cbbce3d9",
   "metadata": {},
   "source": [
    "### 2. Calculate Bulk Discount\r\n",
    "If a customer buys more than 5 items, apply a 15% discount on the total price. Otherwise,\r\n",
    "no discount is applied. Display the total price. "
   ]
  },
  {
   "cell_type": "code",
   "execution_count": 5,
   "id": "231b4be9-a7fb-4120-be20-7b30a2b95f7b",
   "metadata": {},
   "outputs": [
    {
     "name": "stdin",
     "output_type": "stream",
     "text": [
      "Enter the number of items 5\n"
     ]
    },
    {
     "name": "stdout",
     "output_type": "stream",
     "text": [
      "no discount applied total price is:{total_price}\n"
     ]
    }
   ],
   "source": [
    "number_Of_itmes = float(input(\"Enter the number of items\"))\n",
    "total_price = 5000\n",
    "if number_Of_itmes > 5:\n",
    "    discount = 0.15 * total_price\n",
    "    final_price = total_price - discount\n",
    "    print(f\"bulk discount applied final price is:{final_price}\")\n",
    "else:\n",
    "    print(\"no discount applied total price is:{total_price}\")"
   ]
  },
  {
   "cell_type": "markdown",
   "id": "a768c900-4d94-4b63-80ff-a7e5db7bc77e",
   "metadata": {},
   "source": [
    "number_Of_itmes = float(input(\"Enter the number of items\"))\n",
    "total_price = 5000\n",
    "if number_Of_itmes > 5:\n",
    "    discount = 0.15 * total_price\n",
    "    final_price = total_price - discount\n",
    "    print(f\"bulk discount applied final price is:{final_price}\")\n",
    "else:\n",
    "    print(\"no discount applied total price is:{total_price}\")"
   ]
  },
  {
   "cell_type": "markdown",
   "id": "cff81502-f6c3-493c-b2fa-e186ee77e5ea",
   "metadata": {},
   "source": [
    "### 3. Membership Discount\r\n",
    "Check if the customer is a member (is_member = True). Members get a 20% discount;\r\n",
    "non-members get a 5% discount. Calculate and print the discounted price."
   ]
  },
  {
   "cell_type": "code",
   "execution_count": 29,
   "id": "7526d3b1-1276-42a1-9c5f-22fdf72d326d",
   "metadata": {},
   "outputs": [
    {
     "name": "stdin",
     "output_type": "stream",
     "text": [
      "Enter the original price: 50000\n",
      "Are you a member (yes/no)?  yes\n"
     ]
    },
    {
     "name": "stdout",
     "output_type": "stream",
     "text": [
      "Discount applied: 20%\n",
      "The discounted price is: 40000.0\n"
     ]
    }
   ],
   "source": [
    "original_price = float(input(\"Enter the original price:\"))\n",
    "discounted_price = original_price * (1-discount)\n",
    "is_member = input(\"Are you a member (yes/no)? \")\n",
    "if is_member == \"yes\":\n",
    "    discount = 0.20 \n",
    "    print(\"Discount applied: 20%\")\n",
    "else:\n",
    "    discount = 0.05\n",
    "    print(\"Discount applied: 5%\")\n",
    "discounted_price = original_price * (1-discount)\n",
    "print(f\"The discounted price is: {discounted_price}\")"
   ]
  },
  {
   "cell_type": "markdown",
   "id": "f7af7e88-5064-4ad6-872e-51d38d4bd41d",
   "metadata": {},
   "source": [
    "### 4. Seasonal Sale\r\n",
    "If today is a holiday (is_holiday = True), apply a 25% discount; otherwise, apply a 10%\r\n",
    "discount. Calculate the price after discount. "
   ]
  },
  {
   "cell_type": "code",
   "execution_count": 38,
   "id": "0f3d5c9b-80d4-4914-ab3e-87083c1eadb8",
   "metadata": {},
   "outputs": [
    {
     "name": "stdin",
     "output_type": "stream",
     "text": [
      "Enter the original price: 20000\n",
      "Is today a holiday (yes/no)?  yes\n"
     ]
    },
    {
     "name": "stdout",
     "output_type": "stream",
     "text": [
      "The discounted price is: 15000.0\n"
     ]
    }
   ],
   "source": [
    "original_price = float(input(\"Enter the original price:\"))\n",
    "is_holiday = input(\"Is today a holiday (yes/no)? \")\n",
    "if is_holiday == \"yes\":\n",
    "    discount = 0.25  \n",
    "else:\n",
    "    discount = 0.10  \n",
    "discounted_price = original_price * (1 - discount)\n",
    "print(f\"The discounted price is: {discounted_price}\")"
   ]
  },
  {
   "cell_type": "markdown",
   "id": "424a79ed-2bc2-4ba2-9a10-c246b73a5094",
   "metadata": {},
   "source": [
    "### 5. Buy-One-Get-One-Free\r\n",
    "If a customer buys an even number of items, they get half of them for free. Otherwise,\r\n",
    "they pay for all. Calculate the number of items the customer has to pay for."
   ]
  },
  {
   "cell_type": "code",
   "execution_count": 61,
   "id": "4151a54a-8679-4a35-8f0b-4732423fbf53",
   "metadata": {},
   "outputs": [
    {
     "name": "stdin",
     "output_type": "stream",
     "text": [
      "Enter the original price of one item: 500\n",
      "Enter the number of items: 6\n"
     ]
    },
    {
     "name": "stdout",
     "output_type": "stream",
     "text": [
      "Discount applied 50 percent\n",
      "The discounted price is: 1500.0\n"
     ]
    }
   ],
   "source": [
    "original_price = float(input(\"Enter the original price of one item:\"))\n",
    "number_of_items = int(input(\"Enter the number of items:\"))\n",
    "total_price = original_price * number_of_items\n",
    "if number_of_items % 2 == 0:\n",
    "    discounted_price = total_price / 2\n",
    "    print(\"Discount applied 50 percent\")\n",
    "else:\n",
    "    discounted_price = total_price\n",
    "    print(\"No discount applied\")\n",
    "print(f\"The discounted price is: {discounted_price:}\")\n"
   ]
  },
  {
   "cell_type": "markdown",
   "id": "13e58429-b32e-4d72-9785-bbf647ba50af",
   "metadata": {},
   "source": [
    "# B- Tax Calculations \r"
   ]
  },
  {
   "cell_type": "markdown",
   "id": "55b9514b-15f1-4cca-bc1b-19204fab82ae",
   "metadata": {},
   "source": [
    "### 6. Sales Tax\r\n",
    "If the price of an item is greater than $500, apply a luxury tax of 15%. Otherwise, apply a\r\n",
    "standard tax of 8%. Display the total price after tax."
   ]
  },
  {
   "cell_type": "code",
   "execution_count": 64,
   "id": "a40e5d37-5546-41d8-9538-c740702f5553",
   "metadata": {},
   "outputs": [
    {
     "name": "stdin",
     "output_type": "stream",
     "text": [
      "Enter the price of the item: 600\n"
     ]
    },
    {
     "name": "stdout",
     "output_type": "stream",
     "text": [
      "Luxury tax of 15% applied.\n",
      "The total price after tax is: 690.0\n"
     ]
    }
   ],
   "source": [
    "original_price = float(input(\"Enter the price of the item:\"))\n",
    "\n",
    "if original_price > 500:\n",
    "    tax_rate = 0.15  \n",
    "    print(\"Luxury tax of 15% applied.\")\n",
    "else:\n",
    "    tax_rate = 0.08  \n",
    "    print(\"Standard tax of 8% applied.\")\n",
    "total_price = original_price * (1 +  tax_rate )\n",
    "print(f\"The total price after tax is: {total_price}\")\n"
   ]
  },
  {
   "cell_type": "code",
   "execution_count": 65,
   "id": "6dc88bc3-c7ca-4836-997e-0a1160397db6",
   "metadata": {},
   "outputs": [
    {
     "name": "stdin",
     "output_type": "stream",
     "text": [
      "Enter the price of the item: 400\n"
     ]
    },
    {
     "name": "stdout",
     "output_type": "stream",
     "text": [
      "Standard tax of 8% applied.\n",
      "The total price after tax is: 432.0\n"
     ]
    }
   ],
   "source": [
    "original_price = float(input(\"Enter the price of the item:\"))\n",
    "\n",
    "if original_price > 500:\n",
    "    tax_rate = 0.15  \n",
    "    print(\"Luxury tax of 15% applied.\")\n",
    "else:\n",
    "    tax_rate = 0.08  \n",
    "    print(\"Standard tax of 8% applied.\")\n",
    "total_price = original_price * (1 +  tax_rate )\n",
    "print(f\"The total price after tax is: {total_price}\")\n"
   ]
  },
  {
   "cell_type": "markdown",
   "id": "42a92948-3cd0-40c5-b4d7-801bbdb3f65b",
   "metadata": {},
   "source": [
    "### 7. Income Tax\r\n",
    "If a person's annual income is above $50,000, they pay 20% tax. Otherwise, they pay\r\n",
    "10%. Calculate and display the tax amount"
   ]
  },
  {
   "cell_type": "code",
   "execution_count": 66,
   "id": "8780696f-cd3c-4344-8b2c-ec6e177c5f19",
   "metadata": {},
   "outputs": [
    {
     "name": "stdin",
     "output_type": "stream",
     "text": [
      "Enter your annual income: 60000\n"
     ]
    },
    {
     "name": "stdout",
     "output_type": "stream",
     "text": [
      "Your tax amount is: 12000.0\n"
     ]
    }
   ],
   "source": [
    "annual_income = float(input(\"Enter your annual income:\"))\n",
    "if annual_income > 50000:\n",
    "    tax_rate = 0.20 \n",
    "else:\n",
    "    tax_rate = 0.10 \n",
    "tax_amount = annual_income * tax_rate\n",
    "print(f\"Your tax amount is: {tax_amount}\")\n"
   ]
  },
  {
   "cell_type": "code",
   "execution_count": 67,
   "id": "f392d56d-17d9-4fe8-a56e-5206fde6ea93",
   "metadata": {},
   "outputs": [
    {
     "name": "stdin",
     "output_type": "stream",
     "text": [
      "Enter your annual income: 50000\n"
     ]
    },
    {
     "name": "stdout",
     "output_type": "stream",
     "text": [
      "Your tax amount is: 5000.0\n"
     ]
    }
   ],
   "source": [
    "annual_income = float(input(\"Enter your annual income:\"))\n",
    "if annual_income > 50000:\n",
    "    tax_rate = 0.20 \n",
    "else:\n",
    "    tax_rate = 0.10 \n",
    "tax_amount = annual_income * tax_rate\n",
    "print(f\"Your tax amount is: {tax_amount}\")\n"
   ]
  },
  {
   "cell_type": "markdown",
   "id": "3eaf781e-2650-45a0-9442-a804683fc1c1",
   "metadata": {},
   "source": [
    "### 8. Tax Bracket\r\n",
    "Write a program to categorize a person into tax brackets:\r\n",
    " Income < $30,000: \"Low Tax\"\r\n",
    " $30,000 ≤ Income < $100,000: \"Medium Tax\"\r\n",
    " Income ≥ $100,000: \"High Tax\""
   ]
  },
  {
   "cell_type": "code",
   "execution_count": 69,
   "id": "d249e74b-5e22-4fab-9bbf-7761be8dbf8f",
   "metadata": {},
   "outputs": [
    {
     "name": "stdin",
     "output_type": "stream",
     "text": [
      "Enter your annual income: 50000\n"
     ]
    },
    {
     "name": "stdout",
     "output_type": "stream",
     "text": [
      "Your tax bracket is: Medium Tax\n"
     ]
    }
   ],
   "source": [
    "annual_income = float(input(\"Enter your annual income:\"))\n",
    "if annual_income < 30000:\n",
    "    tax_bracket = \"Low Tax\"\n",
    "elif 30000 <= annual_income < 100000:\n",
    "    tax_bracket = \"Medium Tax\"\n",
    "else:\n",
    "    tax_bracket = \"High Tax\"\n",
    "print(f\"Your tax bracket is: {tax_bracket}\")\n"
   ]
  },
  {
   "cell_type": "markdown",
   "id": "b949fb2f-5ffd-443a-96a1-d4c38655257e",
   "metadata": {},
   "source": [
    "### 9. VAT Calculation\r\n",
    "If the item is marked as essential (is_essential = True), apply a VAT of 5%. Otherwise,\r\n",
    "apply a VAT of 12%. Display the final price. "
   ]
  },
  {
   "cell_type": "code",
   "execution_count": 77,
   "id": "e9aeba54-dfca-4887-b413-9b39d7456183",
   "metadata": {},
   "outputs": [
    {
     "name": "stdin",
     "output_type": "stream",
     "text": [
      "Enter the original price of the item: 5000\n",
      "Is the item essential? (yes/no):  yes\n"
     ]
    },
    {
     "name": "stdout",
     "output_type": "stream",
     "text": [
      "Essential item: 5% VAT applied.\n"
     ]
    }
   ],
   "source": [
    "original_price = float(input(\"Enter the original price of the item:\"))\n",
    "is_essential = input(\"Is the item essential? (yes/no): \")\n",
    "vat_amount = original_price * vat_rate\n",
    "final_price = original_price + vat_amount\n",
    "if is_essential:\n",
    "     \n",
    "     vat_rate = 0.05  \n",
    "     print(\"Essential item: 5% VAT applied.\")\n",
    "else:\n",
    "    vat_rate = 0.12   \n",
    "    print(\"Non-essential item: 12% VAT applied.\")\n"
   ]
  },
  {
   "cell_type": "markdown",
   "id": "27bd715f-42e6-43d1-bf27-06341e9b809e",
   "metadata": {},
   "source": [
    "### 10. Tax-Free Day\r\n",
    "If today is a tax-free day (tax_free = True), display the original price. Otherwise, add a\r\n",
    "7% tax."
   ]
  },
  {
   "cell_type": "code",
   "execution_count": 83,
   "id": "45bd4722-43c6-44e3-a006-7fd6f255e336",
   "metadata": {},
   "outputs": [
    {
     "name": "stdout",
     "output_type": "stream",
     "text": [
      "100\n"
     ]
    }
   ],
   "source": [
    "price = 100   \n",
    "tax_free = True \n",
    "if tax_free == True:\n",
    "    print(price)   \n",
    "else:\n",
    "    print(price * 0.07)  "
   ]
  },
  {
   "cell_type": "markdown",
   "id": "8ac7d2c7-1141-46c4-8a15-49654bd6b883",
   "metadata": {},
   "source": [
    "# C- Shopping and Billing "
   ]
  },
  {
   "cell_type": "markdown",
   "id": "b14f2823-2365-48db-9011-510ee45259e8",
   "metadata": {},
   "source": [
    "### 11. Free Shipping\r\n",
    "If the total purchase amount is more than $50, offer free shipping; otherwise, charge $5\r\n",
    "for shipping. Display the total amount including shipping. "
   ]
  },
  {
   "cell_type": "code",
   "execution_count": 94,
   "id": "e19e5ac2-333f-4911-abc6-523f60a81f47",
   "metadata": {},
   "outputs": [
    {
     "name": "stdin",
     "output_type": "stream",
     "text": [
      "Enter the amount of purchase 70\n"
     ]
    },
    {
     "name": "stdout",
     "output_type": "stream",
     "text": [
      "Total amount including shipping:  70.0\n"
     ]
    }
   ],
   "source": [
    "total_purchase= float(input(\"Enter the amount of purchase\")) \n",
    "shipping_fee = 5   \n",
    "free_shipping_threshold = 50  \n",
    "if total_purchase > free_shipping_threshold:\n",
    "    print(f\"Total amount including shipping:  {total_purchase}\")  \n",
    "else:\n",
    "    print(f\"Total amount including shipping: {total_purchase + shipping_fee}\")   "
   ]
  },
  {
   "cell_type": "markdown",
   "id": "60821017-5d66-4801-9ba7-bbf75433ba83",
   "metadata": {},
   "source": [
    "### 12. Discount Code\r\n",
    "If a customer enters the correct discount code (DISCOUNT10), apply a 10% discount.\r\n",
    "Otherwise, charge the full amount.### "
   ]
  },
  {
   "cell_type": "code",
   "execution_count": 95,
   "id": "9db11b3f-8265-4e00-91af-28346851d709",
   "metadata": {},
   "outputs": [
    {
     "name": "stdin",
     "output_type": "stream",
     "text": [
      "Enter discount code:  DISCOUNT10\n"
     ]
    },
    {
     "name": "stdout",
     "output_type": "stream",
     "text": [
      "Discount applied! Final amount:  90.0\n"
     ]
    }
   ],
   "source": [
    "total_amount = 100   \n",
    "discount_code = input(\"Enter discount code: \")  \n",
    "if discount_code == \"DISCOUNT10\":\n",
    "    total_amount *= 0.9   \n",
    "    print(f\"Discount applied! Final amount:  {total_amount }\")\n",
    "else:\n",
    "    print(f\"No discount applied. Final amount:  {total_amount}\")\n"
   ]
  },
  {
   "cell_type": "markdown",
   "id": "ee3945dd-955b-4ba2-b5b8-745b428e415d",
   "metadata": {},
   "source": [
    "### 13. Tiered Discounts\r\n",
    "Apply discounts based on the total price:\r\n",
    " $0–$50: No discount.\r\n",
    " $50–$100: 10% discount.\r\n",
    " Over $100: 20% discount. \r"
   ]
  },
  {
   "cell_type": "code",
   "execution_count": 97,
   "id": "c82d5dea-1d29-4a47-8c7e-c740ffd655d2",
   "metadata": {},
   "outputs": [
    {
     "name": "stdout",
     "output_type": "stream",
     "text": [
      "Final amount after discount: 96.0\n"
     ]
    }
   ],
   "source": [
    "total_amount = 120 \n",
    "if total_amount > 100:\n",
    "    discount = 0.2  \n",
    "elif total_amount >= 50:\n",
    "    discount = 0.1   \n",
    "else:\n",
    "    discount = 0  \n",
    "final_amount = total_amount * (1 - discount)\n",
    "print(f\"Final amount after discount: {final_amount}\")"
   ]
  },
  {
   "cell_type": "markdown",
   "id": "12f68a8e-9662-4836-83e2-86768f2cf16e",
   "metadata": {},
   "source": [
    "### 14. Minimum Purchase Requirement\r\n",
    "If the total amount is less than $20, display a message: \"Minimum purchase of $20 is\r\n",
    "required.\" Otherwise, display the total amount. "
   ]
  },
  {
   "cell_type": "code",
   "execution_count": 98,
   "id": "ea97d7cd-ed4c-4b1c-90cb-13875f7e5002",
   "metadata": {},
   "outputs": [
    {
     "name": "stdin",
     "output_type": "stream",
     "text": [
      "Enter the total amount:  40\n"
     ]
    },
    {
     "name": "stdout",
     "output_type": "stream",
     "text": [
      "The total amount is: 40.0\n"
     ]
    }
   ],
   "source": [
    "total_amount = float(input(\"Enter the total amount: \"))\n",
    "if total_amount < 20:\n",
    "    print(\"Minimum purchase of 20 is required.\")\n",
    "else:\n",
    "    print(f\"The total amount is: {total_amount}\")\n"
   ]
  },
  {
   "cell_type": "markdown",
   "id": "5497d043-b679-466b-9a31-2bae04054543",
   "metadata": {},
   "source": [
    "### 15. Loyalty Points\r\n",
    "If a customer is a loyal member (is_loyal = True), they earn double loyalty points for\r\n",
    "their purchase. Otherwise, they earn standard points. "
   ]
  },
  {
   "cell_type": "code",
   "execution_count": 99,
   "id": "15b32f4d-0d79-4a76-8719-9f13f6baf01c",
   "metadata": {},
   "outputs": [
    {
     "name": "stdin",
     "output_type": "stream",
     "text": [
      "Is the customer a loyal member? (True/False):  True\n",
      "Enter the total purchase amount:  500\n"
     ]
    },
    {
     "name": "stdout",
     "output_type": "stream",
     "text": [
      "The customer earns 1000.0 loyalty points (double points for loyal members).\n"
     ]
    }
   ],
   "source": [
    "is_loyal = input(\"Is the customer a loyal member? (True/False): \")\n",
    "total_purchase = float(input(\"Enter the total purchase amount: \"))\n",
    "standard_points_per_dollar = 1\n",
    "if is_loyal:\n",
    "    loyalty_points = total_purchase * 2 * standard_points_per_dollar\n",
    "    print(f\"The customer earns {loyalty_points} loyalty points (double points for loyal members).\")\n",
    "else:\n",
    "    loyalty_points = total_purchase * standard_points_per_dollar\n",
    "    print(f\"The customer earns {loyalty_points} loyalty points.\")\n"
   ]
  },
  {
   "cell_type": "markdown",
   "id": "a10dc0f7-743b-404e-879a-42d581f96d53",
   "metadata": {},
   "source": [
    "# D- Travel and Tickets \r"
   ]
  },
  {
   "cell_type": "markdown",
   "id": "c59d4d24-8e08-47fc-8706-6b711ec4d438",
   "metadata": {},
   "source": [
    "### 16. Travel Discount\r\n",
    "If a person is traveling more than 500 miles, offer a 20% discount on ticket price.\r\n",
    "Otherwise, charge the full amount. "
   ]
  },
  {
   "cell_type": "code",
   "execution_count": 101,
   "id": "bb2b97bf-4889-45f5-9365-261bdf68d6e9",
   "metadata": {},
   "outputs": [
    {
     "name": "stdin",
     "output_type": "stream",
     "text": [
      "Enter the distance you are traveling (in miles):  600\n",
      "Enter the ticket price: 1000\n"
     ]
    },
    {
     "name": "stdout",
     "output_type": "stream",
     "text": [
      "Since you're traveling more than 500 miles, you get a 20% discount.\n",
      "Your final ticket price is: 800.0\n"
     ]
    }
   ],
   "source": [
    "distance_travelled = float(input(\"Enter the distance you are traveling (in miles): \"))\n",
    "ticket_price = float(input(\"Enter the ticket price:\"))\n",
    "if distance_travelled > 500:\n",
    "    discount = 0.20 * ticket_price\n",
    "    final_price = ticket_price - discount\n",
    "    print(f\"Since you're traveling more than 500 miles, you get a 20% discount.\")\n",
    "    print(f\"Your final ticket price is: {final_price}\")\n",
    "else:\n",
    "    print(f\"Your final ticket price is: {ticket_price}\")\n"
   ]
  },
  {
   "cell_type": "markdown",
   "id": "32903689-5261-4cde-88ec-0d990d2bdf62",
   "metadata": {},
   "source": [
    "### 17. Child or Senior Discount\r\n",
    "If a passenger is under 12 or over 60 years old, apply a 15% discount on the ticket price.\r\n",
    "Otherwise, charge the full price."
   ]
  },
  {
   "cell_type": "code",
   "execution_count": 103,
   "id": "3b7a051e-73d3-4028-9dac-06a5c02cb31d",
   "metadata": {},
   "outputs": [
    {
     "name": "stdin",
     "output_type": "stream",
     "text": [
      "Enter the passenger's age:  65\n",
      "Enter the ticket price: 10000\n"
     ]
    },
    {
     "name": "stdout",
     "output_type": "stream",
     "text": [
      "Since you're under 12 or over 60, you get a 15% discount.\n",
      "Your final ticket price is: 8500.0\n"
     ]
    }
   ],
   "source": [
    "age = int(input(\"Enter the passenger's age: \"))\n",
    "ticket_price = float(input(\"Enter the ticket price:\"))\n",
    "if age < 12 or age > 60:\n",
    "    discount = 0.15 * ticket_price\n",
    "    final_price = ticket_price - discount\n",
    "    print(f\"Since you're under 12 or over 60, you get a 15% discount.\")\n",
    "    print(f\"Your final ticket price is: {final_price}\")\n",
    "else:\n",
    "    print(f\"Your final ticket price is: {ticket_price}\")\n"
   ]
  },
  {
   "cell_type": "markdown",
   "id": "2d3b9681-c72e-4f2d-99fc-f54fc01221b0",
   "metadata": {},
   "source": [
    "### 18. Ticket Type Pricing\r\n",
    "If the ticket is for a weekend (is_weekend = True), add a 10% surcharge. Otherwise,\r\n",
    "charge the standard price"
   ]
  },
  {
   "cell_type": "code",
   "execution_count": 106,
   "id": "b3c07e69-0945-4673-9afd-50ba73ba5aa8",
   "metadata": {},
   "outputs": [
    {
     "name": "stdin",
     "output_type": "stream",
     "text": [
      "Is the ticket for a weekend? (True/False):  False\n",
      "Enter the ticket price: 500\n"
     ]
    },
    {
     "name": "stdout",
     "output_type": "stream",
     "text": [
      "Since it's a weekend, a 10% surcharge has been added.\n",
      "Your final ticket price is: 550.0\n"
     ]
    }
   ],
   "source": [
    "is_weekend = input(\"Is the ticket for a weekend? (True/False): \")\n",
    "ticket_price = float(input(\"Enter the ticket price:\"))\n",
    "if is_weekend:\n",
    "    surcharge = 0.10 * ticket_price\n",
    "    final_price = ticket_price + surcharge\n",
    "    print(f\"Since it's a weekend, a 10% surcharge has been added.\")\n",
    "    print(f\"Your final ticket price is: {final_price}\")\n",
    "else:\n",
    "    print(f\"Your final ticket price is: {ticket_price}\")\n"
   ]
  },
  {
   "cell_type": "markdown",
   "id": "a8c8b7c5-6773-4d02-b40f-810a521865ac",
   "metadata": {},
   "source": [
    "### 19. Baggage Fee\r\n",
    "If the total baggage weight is over 20kg, charge $10 per extra kilogram. Otherwise, no\r\n",
    "extra fee. \r"
   ]
  },
  {
   "cell_type": "code",
   "execution_count": 107,
   "id": "5ed92000-1e70-4f0b-b656-b9b6ad7b75f3",
   "metadata": {},
   "outputs": [
    {
     "name": "stdin",
     "output_type": "stream",
     "text": [
      "Enter the total baggage weight (in kg):  40\n"
     ]
    },
    {
     "name": "stdout",
     "output_type": "stream",
     "text": [
      "Your baggage exceeds the 20kg limit by 20.0kg.\n",
      "You will be charged an extra fee of 200.0.\n"
     ]
    }
   ],
   "source": [
    "baggage_weight = float(input(\"Enter the total baggage weight (in kg): \"))\n",
    "if baggage_weight > 20:\n",
    "    extra_weight = baggage_weight - 20\n",
    "    baggage_fee = extra_weight * 10 \n",
    "    print(f\"Your baggage exceeds the 20kg limit by {extra_weight}kg.\")\n",
    "    print(f\"You will be charged an extra fee of {baggage_fee}.\")\n",
    "else:\n",
    "    print(\"No extra baggage fee.\")"
   ]
  },
  {
   "cell_type": "markdown",
   "id": "8faa06ba-de02-44c4-918f-f2592af2062e",
   "metadata": {},
   "source": [
    "### 20. Early Bird Discount\r\n",
    "If a ticket is booked more than 30 days in advance, apply a 10% discount. Otherwise,\r\n",
    "charge the full price."
   ]
  },
  {
   "cell_type": "code",
   "execution_count": 109,
   "id": "c3e6f862-bb8a-462c-930a-7da52609fe1d",
   "metadata": {},
   "outputs": [
    {
     "name": "stdin",
     "output_type": "stream",
     "text": [
      "Enter the number of days in advance the ticket is booked:  35\n",
      "Enter the ticket price: 4000\n"
     ]
    },
    {
     "name": "stdout",
     "output_type": "stream",
     "text": [
      "Since the ticket is booked more than 30 days in advance, you get a 10% discount.\n",
      "Your final ticket price is: 3600.0\n"
     ]
    }
   ],
   "source": [
    "days_in_advance = int(input(\"Enter the number of days in advance the ticket is booked: \"))\n",
    "ticket_price = float(input(\"Enter the ticket price:\"))\n",
    "if days_in_advance > 30:\n",
    "    discount = 0.10 * ticket_price\n",
    "    final_price = ticket_price - discount\n",
    "    print(f\"Since the ticket is booked more than 30 days in advance, you get a 10% discount.\")\n",
    "    print(f\"Your final ticket price is: {final_price}\")\n",
    "else:\n",
    "    print(f\"Your final ticket price is: {ticket_price}\")"
   ]
  },
  {
   "cell_type": "markdown",
   "id": "48f621bb-febb-4992-bdb9-4607fc165673",
   "metadata": {},
   "source": [
    "# E- Grades and Performance"
   ]
  },
  {
   "cell_type": "markdown",
   "id": "c3861f81-d6a9-46f7-b1a3-15e5f128572d",
   "metadata": {},
   "source": [
    "### 21. Pass or Fail\r\n",
    "If a student scores 40 or more, print \"Pass\". Otherwise, print \"Fail\". \r"
   ]
  },
  {
   "cell_type": "code",
   "execution_count": 110,
   "id": "4a67c22f-cff9-46f9-93f7-a5d9e99899c2",
   "metadata": {},
   "outputs": [
    {
     "name": "stdin",
     "output_type": "stream",
     "text": [
      "Enter the student's score:  67\n"
     ]
    },
    {
     "name": "stdout",
     "output_type": "stream",
     "text": [
      "Pass\n"
     ]
    }
   ],
   "source": [
    "score = float(input(\"Enter the student's score: \"))\n",
    "if score >= 40:\n",
    "    print(\"Pass\")\n",
    "else:\n",
    "    print(\"Fail\")"
   ]
  },
  {
   "cell_type": "markdown",
   "id": "8b99551c-7f1f-42f5-9570-b0777847fec1",
   "metadata": {},
   "source": [
    "### 22. Grade Assignment\r\n",
    "Based on a student's score, assign grades:\r\n",
    " 90 and above: \"A\"\r\n",
    " 75–89: \"B\"\r\n",
    " 50–74: \"C\"\r\n",
    " Below 50: \"F\""
   ]
  },
  {
   "cell_type": "code",
   "execution_count": 111,
   "id": "8f5291ea-1e74-4f56-8a9a-9fd17bd7acb7",
   "metadata": {},
   "outputs": [
    {
     "name": "stdin",
     "output_type": "stream",
     "text": [
      "Enter the student's score:  87\n"
     ]
    },
    {
     "name": "stdout",
     "output_type": "stream",
     "text": [
      "The student's grade is: B\n"
     ]
    }
   ],
   "source": [
    "score = float(input(\"Enter the student's score: \"))\n",
    "if score >= 90:\n",
    "    grade = \"A\"\n",
    "elif score >= 75:\n",
    "    grade = \"B\"\n",
    "elif score >= 50:\n",
    "    grade = \"C\"\n",
    "else:\n",
    "    grade = \"F\"\n",
    "print(f\"The student's grade is: {grade}\")"
   ]
  },
  {
   "cell_type": "markdown",
   "id": "d531e597-f9ef-486f-b147-f215de260375",
   "metadata": {},
   "source": [
    "### 23. Bonus Marks\r\n",
    "If a student completes all assignments, add 5 bonus marks to their score. Otherwise, no\r\n",
    "bonus marks. \r"
   ]
  },
  {
   "cell_type": "code",
   "execution_count": 113,
   "id": "d1527cb2-b547-45d9-92c0-0f53d8e90a4f",
   "metadata": {},
   "outputs": [
    {
     "name": "stdin",
     "output_type": "stream",
     "text": [
      "Enter the student's score:  88\n",
      "Did the student complete all assignments? (Yes/No):  yes\n"
     ]
    },
    {
     "name": "stdout",
     "output_type": "stream",
     "text": [
      "Bonus marks added!\n",
      "The student's final score is: 93.0\n"
     ]
    }
   ],
   "source": [
    "score = float(input(\"Enter the student's score: \"))\n",
    "completed_assignments = input(\"Did the student complete all assignments? (Yes/No): \")\n",
    "if completed_assignments == 'yes':\n",
    "    score += 5 \n",
    "    print(\"Bonus marks added!\")\n",
    "else:\n",
    "    print(\"No bonus marks.\")\n",
    "print(f\"The student's final score is: {score}\")"
   ]
  },
  {
   "cell_type": "markdown",
   "id": "2e764ac2-f67b-495f-8c69-61e09c45dbc2",
   "metadata": {},
   "source": [
    "### 24. Attendance Eligibility\r\n",
    "If a student's attendance is 75% or more, they are eligible to take the exam. Otherwise,\r\n",
    "they are not."
   ]
  },
  {
   "cell_type": "code",
   "execution_count": 114,
   "id": "af8e4e89-668a-4b5d-8e3b-74336f5e731c",
   "metadata": {},
   "outputs": [
    {
     "name": "stdin",
     "output_type": "stream",
     "text": [
      "Enter the total number of classes:  55\n",
      "Enter the number of classes attended:  40\n"
     ]
    },
    {
     "name": "stdout",
     "output_type": "stream",
     "text": [
      "You are not eligible to take the exam.\n"
     ]
    }
   ],
   "source": [
    "total_classes = int(input(\"Enter the total number of classes: \"))\n",
    "attended_classes = int(input(\"Enter the number of classes attended: \"))\n",
    "attendance_percentage = (attended_classes / total_classes) * 100\n",
    "if attendance_percentage >= 75:\n",
    "    print(\"You are eligible to take the exam.\")\n",
    "else:\n",
    "    print(\"You are not eligible to take the exam.\")"
   ]
  },
  {
   "cell_type": "markdown",
   "id": "1aee0d68-a962-4653-92e8-90570b71e87c",
   "metadata": {},
   "source": [
    "### 25. Scholarship Eligibility\r\n",
    "If a student's grade is \"A\" and their annual family income is below $30,000, they are\r\n",
    "eligible for a scholarship. Otherwise, they are not."
   ]
  },
  {
   "cell_type": "code",
   "execution_count": 115,
   "id": "e002160e-2047-4615-a29e-aa1b66f33f49",
   "metadata": {},
   "outputs": [
    {
     "name": "stdin",
     "output_type": "stream",
     "text": [
      "Enter the student's grade (A, B, C, F):  B\n",
      "Enter the annual family income: $ 30000\n"
     ]
    },
    {
     "name": "stdout",
     "output_type": "stream",
     "text": [
      "The student is not eligible for a scholarship.\n"
     ]
    }
   ],
   "source": [
    "grade = input(\"Enter the student's grade (A, B, C, F): \")\n",
    "family_income = float(input(\"Enter the annual family income: $\"))\n",
    "if grade == \"A\" and family_income < 30000:\n",
    "    print(\"The student is eligible for a scholarship.\")\n",
    "else:\n",
    "    print(\"The student is not eligible for a scholarship.\")"
   ]
  },
  {
   "cell_type": "code",
   "execution_count": null,
   "id": "064b92f8-4ccb-495c-b5fe-4c5bdf80c78f",
   "metadata": {},
   "outputs": [],
   "source": []
  }
 ],
 "metadata": {
  "kernelspec": {
   "display_name": "Python 3 (ipykernel)",
   "language": "python",
   "name": "python3"
  },
  "language_info": {
   "codemirror_mode": {
    "name": "ipython",
    "version": 3
   },
   "file_extension": ".py",
   "mimetype": "text/x-python",
   "name": "python",
   "nbconvert_exporter": "python",
   "pygments_lexer": "ipython3",
   "version": "3.11.7"
  }
 },
 "nbformat": 4,
 "nbformat_minor": 5
}

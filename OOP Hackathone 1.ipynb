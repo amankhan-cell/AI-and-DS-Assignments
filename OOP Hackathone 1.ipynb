{
 "cells": [
  {
   "cell_type": "markdown",
   "id": "1eb0de36-bee4-4b61-bd02-6a89214a25b8",
   "metadata": {},
   "source": [
    "#                             Banking System Project -OOP\n",
    "#                              Author: [aman khan]\n",
    "#                              Date: [09-jan-2025]"
   ]
  },
  {
   "cell_type": "code",
   "execution_count": 13,
   "id": "063792f8-fdb1-4f7e-bbd9-927ec7690413",
   "metadata": {},
   "outputs": [],
   "source": [
    "class bank_account :\n",
    "    def __init__(self, account_name, account_holder):\n",
    "        self.account_name = account_name\n",
    "        self.acount_holder = account_holder\n",
    "        self.balance = 0.0\n",
    "        self.transaction = []\n",
    "def deposit(self,amount):\n",
    "    if amount > 0:\n",
    "        self.balance += amount\n",
    "        self.add_transaction(f\"Deposited:${amount}\")  \n",
    "        print(f\"${amount} deposited successfully\")\n",
    "    else:\n",
    "        print(\"Deposited amount must be positive\")\n",
    "def withdraw(self, amount):\n",
    "    if amount <= self.balance:\n",
    "        self.balanced -= amount\n",
    "        self.add_transaction(f\"withdrew ${amount}\")\n",
    "        print(f\"${amount} withdraw successfully\")\n",
    "    else:\n",
    "        print(\"insuficient balance\")\n",
    "def check_balance(self):\n",
    "    return self.balance\n",
    "def add_transacion(self,balance):\n",
    "    self.transaction.append(description)\n",
    "def print_statement(self):\n",
    "    print(f\"transaction statement for {self.account_holder}\")\n",
    "    for transaction in self.transaction:\n",
    "        print(f\"-{transaction}\")"
   ]
  },
  {
   "cell_type": "code",
   "execution_count": 20,
   "id": "8341a165-74ab-4673-a5c4-2ad613492e14",
   "metadata": {},
   "outputs": [],
   "source": [
    "class bank:\n",
    "    def __init__(self):\n",
    "        self.account = {}\n",
    "        self.next_account_number = 1\n",
    "def open_account(self, account_holder):\n",
    "    account_number = self.next_account_number\n",
    "    self.account[account_number] = bankaccount(account_number,account_holder)\n",
    "    self.next_account_number += 1\n",
    "    print(f\"account created successfully.account_Number:{account_number}\")\n",
    "def get_account(self,account_number):\n",
    "    return\n",
    "    self.account.get(account_number,none)\n",
    "def transfer(sender_account_number,reciever_account_number,amount):\n",
    "    sender = self.get_account(sender_account_number)\n",
    "    reciever = self.get_reciever(reciever_account_number)\n",
    "    if sender and reciever:\n",
    "        if sender.balance >= amount:\n",
    "            sender.withdraw(amount)\n",
    "            reciever.deposit(amount)\n",
    "            print(f\"amount transfer from{sender_account_number} to {reciever_account_number}\")\n",
    "        else:\n",
    "            print(\"insuficient balance in sender account\")\n",
    "    else:\n",
    "        print(\"invalid account number\")\n",
    "def admin_checj_total_deposit(self):\n",
    "    total = sum(account.balance for account in self.account.values())\n",
    "    print(f\" total deposite in bank #{total}:\")\n",
    "def admin_chech_total_account(Self):\n",
    "    print(f\"total numbers of account:{len(self.account)}\")"
   ]
  },
  {
   "cell_type": "code",
   "execution_count": 22,
   "id": "0b5b7de4-636d-4e63-836f-8c5b7256915e",
   "metadata": {},
   "outputs": [
    {
     "name": "stdout",
     "output_type": "stream",
     "text": [
      "\n",
      "Welcome to the Banking System\n",
      "1. Open Account\n",
      "2. Deposit Money\n",
      "3. Withdraw Money\n",
      "4. Check Balance\n",
      "5. Transfer Money\n",
      "6. View Transaction Statement\n",
      "7. Admin: View Total Deposits\n",
      "8. Admin: View Total Accounts\n",
      "9. Exit\n"
     ]
    },
    {
     "name": "stdin",
     "output_type": "stream",
     "text": [
      "Choose an option:  1\n",
      "Enter your name:  k\n"
     ]
    },
    {
     "name": "stdout",
     "output_type": "stream",
     "text": [
      "\n",
      "Welcome to the Banking System\n",
      "1. Open Account\n",
      "2. Deposit Money\n",
      "3. Withdraw Money\n",
      "4. Check Balance\n",
      "5. Transfer Money\n",
      "6. View Transaction Statement\n",
      "7. Admin: View Total Deposits\n",
      "8. Admin: View Total Accounts\n",
      "9. Exit\n"
     ]
    },
    {
     "name": "stdin",
     "output_type": "stream",
     "text": [
      "Choose an option:  9\n"
     ]
    },
    {
     "name": "stdout",
     "output_type": "stream",
     "text": [
      "Thank you for using the Banking System. Goodbye!\n"
     ]
    }
   ],
   "source": [
    "def main():\n",
    "    bank = Bank()\n",
    "\n",
    "    while True:\n",
    "        print(\"\\nWelcome to the Banking System\")\n",
    "        print(\"1. Open Account\")\n",
    "        print(\"2. Deposit Money\")\n",
    "        print(\"3. Withdraw Money\")\n",
    "        print(\"4. Check Balance\")\n",
    "        print(\"5. Transfer Money\")\n",
    "        print(\"6. View Transaction Statement\")\n",
    "        print(\"7. Admin: View Total Deposits\")\n",
    "        print(\"8. Admin: View Total Accounts\")\n",
    "        print(\"9. Exit\")\n",
    "\n",
    "        choice = input(\"Choose an option: \")\n",
    "\n",
    "        if choice == \"1\":\n",
    "            name = input(\"Enter your name: \")\n",
    "            bank.open_account(name)\n",
    "\n",
    "        elif choice == \"2\":\n",
    "            account_number = int(input(\"Enter your account number: \"))\n",
    "            amount = float(input(\"Enter amount to deposit: \"))\n",
    "            account = bank.get_account(account_number)\n",
    "            if account:\n",
    "                account.deposit(amount)\n",
    "            else:\n",
    "                print(\"Account not found.\")\n",
    "\n",
    "        elif choice == \"3\":\n",
    "            account_number = int(input(\"Enter your account number: \"))\n",
    "            amount = float(input(\"Enter amount to withdraw: \"))\n",
    "            account = bank.get_account(account_number)\n",
    "            if account:\n",
    "                account.withdraw(amount)\n",
    "            else:\n",
    "                print(\"Account not found.\")\n",
    "\n",
    "        elif choice == \"4\":\n",
    "            account_number = int(input(\"Enter your account number: \"))\n",
    "            account = bank.get_account(account_number)\n",
    "            if account:\n",
    "                print(f\"Your balance is: ${account.check_balance()}\")\n",
    "            else:\n",
    "                print(\"Account not found.\")\n",
    "\n",
    "        elif choice == \"5\":\n",
    "            sender_account_number = int(input(\"Enter your account number: \"))\n",
    "            receiver_account_number = int(input(\"Enter the receiver's account number: \"))\n",
    "            amount = float(input(\"Enter amount to transfer: \"))\n",
    "            bank.transfer(sender_account_number, receiver_account_number, amount)\n",
    "\n",
    "        elif choice == \"6\":\n",
    "            account_number = int(input(\"Enter your account number: \"))\n",
    "            account = bank.get_account(account_number)\n",
    "            if account:\n",
    "                account.print_statement()\n",
    "            else:\n",
    "                print(\"Account not found.\")\n",
    "\n",
    "        elif choice == \"7\":\n",
    "            bank.admin_check_total_deposit()\n",
    "\n",
    "        elif choice == \"8\":\n",
    "            bank.admin_check_total_accounts()\n",
    "\n",
    "        elif choice == \"9\":\n",
    "            print(\"Thank you for using the Banking System. Goodbye!\")\n",
    "            break\n",
    "\n",
    "        else:\n",
    "            print(\"Invalid choice. Please try again.\")\n",
    "\n",
    "if __name__ == \"__main__\":\n",
    "    main()"
   ]
  },
  {
   "cell_type": "code",
   "execution_count": null,
   "id": "395bca6d-ed81-45b1-9e26-55512a03bf5a",
   "metadata": {},
   "outputs": [],
   "source": []
  }
 ],
 "metadata": {
  "kernelspec": {
   "display_name": "Python 3 (ipykernel)",
   "language": "python",
   "name": "python3"
  },
  "language_info": {
   "codemirror_mode": {
    "name": "ipython",
    "version": 3
   },
   "file_extension": ".py",
   "mimetype": "text/x-python",
   "name": "python",
   "nbconvert_exporter": "python",
   "pygments_lexer": "ipython3",
   "version": "3.11.7"
  }
 },
 "nbformat": 4,
 "nbformat_minor": 5
}

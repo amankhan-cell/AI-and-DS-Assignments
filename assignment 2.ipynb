{
 "cells": [
  {
   "cell_type": "markdown",
   "id": "b8bc82f2-81c9-4812-971d-62393e32d128",
   "metadata": {},
   "source": [
    "# 1) Area of a Rectangle:\n",
    "Write a Python program to calculate the area of a rectangle. Use the formula:\n",
    "𝐴𝒓𝒆𝒂 = 𝒍𝒆𝒏𝒈𝒕𝒉 × 𝒘𝒊𝒅𝒕𝒉\n",
    "Take length and width as inputs from the user. \n"
   ]
  },
  {
   "cell_type": "code",
   "execution_count": 7,
   "id": "0235a6a9-40b7-4ad3-9f8c-ad3348add4e9",
   "metadata": {},
   "outputs": [
    {
     "name": "stdin",
     "output_type": "stream",
     "text": [
      "Enter the value of length:  6\n",
      "Enter the value of width:  7\n"
     ]
    },
    {
     "name": "stdout",
     "output_type": "stream",
     "text": [
      "42.0\n"
     ]
    }
   ],
   "source": [
    "length  = float(input(\"Enter the value of length: \"))\n",
    "width = float(input(\"Enter the value of width: \"))\n",
    "print(length * width)"
   ]
  },
  {
   "cell_type": "markdown",
   "id": "1900a4e8-b9ce-4638-a7ce-f5a4b31fa131",
   "metadata": {},
   "source": [
    "# 2) Circumference of a Circle:\n",
    "Write a Python program to calculate the circumference of a circle. Use the formula:\n",
    "𝑪𝒊𝒓𝒄𝒖𝒎𝒇𝒆𝒓𝒆𝒏𝒄𝒆 = 𝟐𝝅𝒓\n",
    "Take the radius r as input from the user.\n",
    "\n"
   ]
  },
  {
   "cell_type": "code",
   "execution_count": 5,
   "id": "1d087a10-a479-4335-a04f-c42692314b3b",
   "metadata": {},
   "outputs": [
    {
     "name": "stdin",
     "output_type": "stream",
     "text": [
      "Enter the radius of the circle:  10\n"
     ]
    },
    {
     "name": "stdout",
     "output_type": "stream",
     "text": [
      "The circumference of the circle is: 62.839999999999996\n"
     ]
    }
   ],
   "source": [
    "radius = float(input(\"Enter the radius of the circle: \"))\n",
    "circumference = 2 * 3.142* radius\n",
    "print(f\"The circumference of the circle is: {circumference}\")"
   ]
  },
  {
   "cell_type": "markdown",
   "id": "5baee840-4446-412c-ade6-2a2077eeba7a",
   "metadata": {},
   "source": [
    "# 3) Simple Interest:\r\n",
    "Write a Python program to calculate the simple interest. Use the formula:\r\n",
    "𝑺𝒊𝒎𝒑𝒍𝒆 𝑰𝒏𝒕𝒆𝒓𝒆𝒔𝒕 = 𝑷𝒓𝒊𝒏𝒄𝒊𝒑𝒂𝒍 × 𝑹𝒂𝒕𝒆 × 𝑻𝒊𝒎𝒆\r\n",
    "Take Principal, Rate, and Time as inputs from the user. "
   ]
  },
  {
   "cell_type": "code",
   "execution_count": 6,
   "id": "7f2527ec-c808-4782-914b-c08a55470319",
   "metadata": {},
   "outputs": [
    {
     "name": "stdin",
     "output_type": "stream",
     "text": [
      "Enter the principal amount:  20\n",
      "Enter the rate of interest (in percentage):  50\n",
      "Enter the time period (in years):  0.5\n"
     ]
    },
    {
     "name": "stdout",
     "output_type": "stream",
     "text": [
      "The simple interest is: 5.0\n"
     ]
    }
   ],
   "source": [
    "principal = float(input(\"Enter the principal amount: \"))\n",
    "rate = float(input(\"Enter the rate of interest (in percentage): \"))\n",
    "time = float(input(\"Enter the time period (in years): \"))\n",
    "simple_interest = (principal * rate * time) / 100\n",
    "print(f\"The simple interest is: {simple_interest}\")"
   ]
  },
  {
   "cell_type": "markdown",
   "id": "f626bce0-e701-4336-87ba-38864e3ccf70",
   "metadata": {},
   "source": [
    "# 4) Speed of an Object:\n",
    "Write a Python program to calculate the speed of an object. Use the formula:\n",
    "𝑆𝒑𝒆𝒆𝒅 = 𝑫𝒊𝒔𝒕𝒂𝒏𝒄𝒆 / 𝑻𝒊𝒎𝒆\n",
    "Take Distance and Time as inputs from the user. \n"
   ]
  },
  {
   "cell_type": "code",
   "execution_count": 7,
   "id": "fadd5ac6-3b55-4244-ad67-901e565507d9",
   "metadata": {},
   "outputs": [
    {
     "name": "stdin",
     "output_type": "stream",
     "text": [
      "Enter the distance traveled (in meters):  10\n",
      "Enter the time taken (in seconds):  50\n"
     ]
    },
    {
     "name": "stdout",
     "output_type": "stream",
     "text": [
      "The speed of the object is: 0.2 meters per second\n"
     ]
    }
   ],
   "source": [
    "distance = float(input(\"Enter the distance traveled (in meters): \"))\n",
    "time = float(input(\"Enter the time taken (in seconds): \"))\n",
    "speed = distance / time\n",
    "print(f\"The speed of the object is: {speed} meters per second\")"
   ]
  },
  {
   "cell_type": "markdown",
   "id": "fcfae578-1c34-4e1c-8764-4166403c7ea7",
   "metadata": {},
   "source": [
    "# 5) BMI Calculator:\r\n",
    "Write a Python program to calculate the Body Mass Index (BMI). Use the formula:\r\n",
    "BMI weight(kg)/height**2).మ\r\n",
    " Take Weight (in kilograms) and Height (in meters) as inputs from the us. \r\n"
   ]
  },
  {
   "cell_type": "code",
   "execution_count": 9,
   "id": "ce9d9171-6605-4599-a34b-cdbd0464d276",
   "metadata": {},
   "outputs": [
    {
     "name": "stdin",
     "output_type": "stream",
     "text": [
      "Enter your weight in kg: 70\n",
      "Enter your height in meters: 6.3\n"
     ]
    },
    {
     "name": "stdout",
     "output_type": "stream",
     "text": [
      "your BMI is: 1.7636684303350971\n"
     ]
    }
   ],
   "source": [
    "weight = float(input(\"Enter your weight in kg:\"))\n",
    "height = float(input(\"Enter your height in meters:\"))\n",
    "BMI = weight/(height**2)\n",
    "print(f\"your BMI is: {BMI}\")"
   ]
  },
  {
   "cell_type": "markdown",
   "id": "1afb4432-e578-4be3-8898-5caea8d213d6",
   "metadata": {},
   "source": [
    "# 6) Force Using Newton's Second Law:\n",
    "Write a Python program to calculate the force on an object. Use the formula:\n",
    "                   Force=mass×acceleration\r\n",
    "Take m (mass in kilograms) and a (acceleration in meters/second²) as inputs from the\r\n",
    "user. \r"
   ]
  },
  {
   "cell_type": "code",
   "execution_count": 12,
   "id": "be3042f1-c818-4eea-aea6-42fe73393434",
   "metadata": {},
   "outputs": [
    {
     "name": "stdin",
     "output_type": "stream",
     "text": [
      "Enter the mass of the object in kilogram: 100\n",
      "Enter the acceleration in meters/second²:  12\n"
     ]
    },
    {
     "name": "stdout",
     "output_type": "stream",
     "text": [
      "the force on the object is: 1200.0\n"
     ]
    }
   ],
   "source": [
    "Mass = float(input(\"Enter the mass of the object in kilogram:\"))\n",
    "Acceleration = float(input(\"Enter the acceleration in meters/second²: \"))\n",
    "Force = Mass*Acceleration\n",
    "print(f\"the force on the object is: {Force}\")"
   ]
  },
  {
   "cell_type": "markdown",
   "id": "1efb1965-35e0-488b-bc5a-7f3b9b763117",
   "metadata": {},
   "source": [
    "# 7) Compound Interest:\n",
    "Write a Python program to calculate compound interest. Use the formula:\n",
    "A = P*(1+r/n)^n-t\n",
    "Where:\n",
    "A= total amount\n",
    "P = principal amount\n",
    "r = annual interest rate (decimal)\n",
    "n = number of times interest is compounded per year\n",
    "t = time in years\n",
    "Take P, r, n, and t as inputs from the user."
   ]
  },
  {
   "cell_type": "code",
   "execution_count": 15,
   "id": "54365f9b-ba12-4f11-a4f2-08bf4a169398",
   "metadata": {},
   "outputs": [
    {
     "name": "stdin",
     "output_type": "stream",
     "text": [
      "Enter the principal amount (in currency):  100\n",
      "Enter the annual interest rate (as a decimal):  0.05\n",
      "Enter the number of times interest is compounded per year:  3\n",
      "Enter the time in years:  1\n"
     ]
    },
    {
     "name": "stdout",
     "output_type": "stream",
     "text": [
      "the total amount A after interst: 6399.0\n"
     ]
    }
   ],
   "source": [
    "p = float(input(\"Enter the principal amount (in currency): \"))\n",
    "r = float(input(\"Enter the annual interest rate (as a decimal): \"))\n",
    "n = int(input(\"Enter the number of times interest is compounded per year: \"))\n",
    "t = float(input(\"Enter the time in years: \"))\n",
    "A = p*(1+n/t)**n-t\n",
    "print(f\"the total amount A after interst: {A}\")"
   ]
  },
  {
   "cell_type": "markdown",
   "id": "48886063-bf4a-4e86-bebb-d6613954c73a",
   "metadata": {},
   "source": [
    "# 8) Perimeter of a Triangle:\r\n",
    "Write a Python program to calculate the perimeter of a triangle. Use the formula:\r\n",
    "𝑷𝒆𝒓𝒊𝒎𝒆𝒕𝒆𝒓 = 𝒂 + 𝒃 + 𝒄\r\n",
    "Take a, b, and c (lengths of the three sides) as inputs from the user.\r"
   ]
  },
  {
   "cell_type": "code",
   "execution_count": 16,
   "id": "4819c729-b498-4cb9-9c47-4d6dcf63564a",
   "metadata": {},
   "outputs": [
    {
     "name": "stdin",
     "output_type": "stream",
     "text": [
      "Enter the length of side a:  5\n",
      "Enter the length of side b:  6\n",
      "Enter the length of side c:  8\n"
     ]
    },
    {
     "name": "stdout",
     "output_type": "stream",
     "text": [
      "The perimeter of the triangle is: 19.0\n"
     ]
    }
   ],
   "source": [
    "a = float(input(\"Enter the length of side a: \"))\n",
    "b = float(input(\"Enter the length of side b: \"))\n",
    "c = float(input(\"Enter the length of side c: \"))\n",
    "perimeter = a + b + c\n",
    "print(f\"The perimeter of the triangle is: {perimeter}\")"
   ]
  },
  {
   "cell_type": "markdown",
   "id": "9a7432d8-143a-47f3-8214-af6bfa8841d0",
   "metadata": {},
   "source": [
    "# 9) Volume of a Sphere:\r\n",
    "Write a Python program to calculate the volume of a sphere. Use the formula:volume = 4/3 (pi*r)**3\n",
    "ଷ\r\n",
    "Take r (radius) as input from the user. "
   ]
  },
  {
   "cell_type": "code",
   "execution_count": 24,
   "id": "57d54ed8-9551-4789-ac7d-ecbb2aa28d85",
   "metadata": {},
   "outputs": [
    {
     "name": "stdin",
     "output_type": "stream",
     "text": [
      "Enter the radius of the shpere: 20\n"
     ]
    },
    {
     "name": "stdout",
     "output_type": "stream",
     "text": [
      "the volume of the sphere is: 0.0005236666666666667\n"
     ]
    }
   ],
   "source": [
    "radius = float(input(\"Enter the radius of the shpere:\"))\n",
    "volume = (4/3)*3.142*(r)**3\n",
    "print(f\"the volume of the sphere is: {volume}\")"
   ]
  },
  {
   "cell_type": "markdown",
   "id": "79b7f9aa-7d84-444c-80b8-0952d5b9a10c",
   "metadata": {},
   "source": [
    "# 10) Kinetic Energy:\r\n",
    "Write a Python program to calculate the kinetic energy of an object. Use the formula:\r\n",
    "𝑲𝑬 =\r\n",
    "𝟏\r\n",
    "𝟐\r\n",
    "𝒎 𝑽\r\n",
    "𝟐\r\n",
    "Take m (mass in kilograms) and v (velocity in meters/second) as inputs from the user. \r"
   ]
  },
  {
   "cell_type": "code",
   "execution_count": 26,
   "id": "7a95153e-4567-4b29-9f78-2ac95e1c68b2",
   "metadata": {},
   "outputs": [
    {
     "name": "stdin",
     "output_type": "stream",
     "text": [
      "Enter the value of mass in kg: 20\n",
      "Enter the value of velocity in m/s: 15\n"
     ]
    },
    {
     "name": "stdout",
     "output_type": "stream",
     "text": [
      "the kinetic energy of an object is:2250.0\n"
     ]
    }
   ],
   "source": [
    "mass = float(input(\"Enter the value of mass in kg:\"))\n",
    "velocity = float(input(\"Enter the value of velocity in m/s:\")) \n",
    "KE = (0.5)*mass*velocity**2\n",
    "print(f\"the kinetic energy of an object is:{KE}\")"
   ]
  },
  {
   "cell_type": "markdown",
   "id": "389f5202-2615-4a3b-83ba-4fcf8f20933d",
   "metadata": {},
   "source": [
    "# 11) Quadratic Equation Roots:\r\n",
    "Write a Python program to find the roots of a quadratic equation. Use the formula:\r\n",
    "X -bି௕b**2-4ac/2a\r\n",
    "ଶ௔\r\n",
    "Take a, b, and c as inputs from the user\r\n",
    "ଶ௔\r\n",
    "Take a, b, and c as inputs from the user"
   ]
  },
  {
   "cell_type": "code",
   "execution_count": 34,
   "id": "7177d5ae-8cb1-4d8c-a6e4-322bcbb4bd4a",
   "metadata": {},
   "outputs": [
    {
     "name": "stdin",
     "output_type": "stream",
     "text": [
      "Enter the coefficient a:  1\n",
      "Enter the coefficient b:  -3\n",
      "Enter the coefficient c:  2\n"
     ]
    },
    {
     "name": "stdout",
     "output_type": "stream",
     "text": [
      "the roots of a quadratic equation:2.0\n"
     ]
    }
   ],
   "source": [
    "a = float(input(\"Enter the coefficient a: \"))\n",
    "b = float(input(\"Enter the coefficient b: \"))\n",
    "c = float(input(\"Enter the coefficient c: \"))\n",
    "X = (-b+(b**2-4*a*c)**0.5)/2*a\n",
    "print(f\"the roots of a quadratic equation:{X}\")"
   ]
  },
  {
   "cell_type": "code",
   "execution_count": 35,
   "id": "c3581dad-e1aa-4f17-821e-f961ff40f95c",
   "metadata": {},
   "outputs": [
    {
     "name": "stdin",
     "output_type": "stream",
     "text": [
      "Enter the coefficient a:  1\n",
      "Enter the coefficient b:  -3\n",
      "Enter the coefficient c:  2\n"
     ]
    },
    {
     "name": "stdout",
     "output_type": "stream",
     "text": [
      "the roots of a quadratic equation:1.0\n"
     ]
    }
   ],
   "source": [
    "a = float(input(\"Enter the coefficient a: \"))\n",
    "b = float(input(\"Enter the coefficient b: \"))\n",
    "c = float(input(\"Enter the coefficient c: \"))\n",
    "X = (-b-(b**2-4*a*c)**0.5)/2*a\n",
    "print(f\"the roots of a quadratic equation:{X}\")"
   ]
  },
  {
   "cell_type": "markdown",
   "id": "d99b7a60-b3a6-4843-aeb7-0c1eba5e0a85",
   "metadata": {},
   "source": [
    "# 12) Temperature Conversion:\n",
    "Write a Python program to convert a temperature from Celsius to Fahrenheit. Use the\n",
    "formula: F = 9/5 C + 32\n",
    "Take C (temperature in Celsius) as input from the user."
   ]
  },
  {
   "cell_type": "code",
   "execution_count": 41,
   "id": "9ec897b5-0626-4248-ab3e-4fdbcc0f432b",
   "metadata": {},
   "outputs": [
    {
     "name": "stdin",
     "output_type": "stream",
     "text": [
      "Enter the temerature in celcius: 36\n"
     ]
    },
    {
     "name": "stdout",
     "output_type": "stream",
     "text": [
      "the temperature in fehrenheit is: 96.8\n"
     ]
    }
   ],
   "source": [
    "C = float(input(\"Enter the temerature in celcius:\"))\n",
    "F = (9/5)*C+32\n",
    "print(f\"the temperature in fehrenheit is: {F}\")"
   ]
  },
  {
   "cell_type": "markdown",
   "id": "7608fda2-8e57-4abd-9a1e-9a1a82cf3e5c",
   "metadata": {},
   "source": [
    "# 13) Gravitational Force:\r\n",
    "Write a Python program to calculate the gravitational force between two objects. Use\r\n",
    "the formula\r\n",
    "𝑭 = /��**2�- m1, m2 are the masses of the objects\n",
    "- r = distance between the centers of the objects objects\r\n",
    "Take m1, m2 and r as inputs from the user.\r"
   ]
  },
  {
   "cell_type": "code",
   "execution_count": 46,
   "id": "5798abd1-7e5d-420f-84b6-753766a43cad",
   "metadata": {},
   "outputs": [
    {
     "name": "stdin",
     "output_type": "stream",
     "text": [
      "Enter the mass of the object: 20\n",
      "Enter the mass of the object: 30\n",
      "Enter the radius of the object: 10\n"
     ]
    },
    {
     "name": "stdout",
     "output_type": "stream",
     "text": [
      "the gravitational force of an object is:0.3000000013348\n"
     ]
    }
   ],
   "source": [
    "m1 = float(input(\"Enter the mass of the object:\"))\n",
    "m2 = float(input(\"Enter the mass of the object:\"))\n",
    "r = float(input(\"Enter the radius of the object:\"))\n",
    "G = 6.674*10**-11\n",
    "F = G*m1+m2/r**2\n",
    "print(f\"the gravitational force of an object is:{F}\")"
   ]
  },
  {
   "cell_type": "markdown",
   "id": "0880da8f-042b-48b4-bb06-0e93f606d4a4",
   "metadata": {},
   "source": [
    "# 14) Volume of a Cylinder:\r\n",
    "Write a Python program to calculate the volume of a cylinder. Use the formula:\r\n",
    "𝑽𝒐𝒍𝒖𝒎𝒆 = 𝝅𝒓𝟐𝒉\r\n",
    "Take radius(r) and height(h) as inputs from the user"
   ]
  },
  {
   "cell_type": "code",
   "execution_count": 53,
   "id": "6e3ab7d2-1cb0-4dea-81c9-d78c3e7f8632",
   "metadata": {},
   "outputs": [
    {
     "name": "stdin",
     "output_type": "stream",
     "text": [
      "Enter the height of the cylinder in meter: 25\n",
      "Enter the adius of the cylinder in meter 10\n"
     ]
    },
    {
     "name": "stdout",
     "output_type": "stream",
     "text": [
      "the volume of the cylinder is: 7917.839999999999\n"
     ]
    }
   ],
   "source": [
    "height == float(input(\"Enter the height of the cylinder in meter:\"))\n",
    "radius == float(input(\"Enter the adius of the cylinder in meter\"))\n",
    "volume = 3.142*radius**2*height\n",
    "print(f\"the volume of the cylinder is: {volume}\")"
   ]
  },
  {
   "cell_type": "markdown",
   "id": "36b44f7d-b952-406f-9496-87c242e2298c",
   "metadata": {},
   "source": [
    "# 15) Pressure:\r\n",
    "Write a Python program to calculate the pressure exerted by a force on a surface. Use\r\n",
    "the formula:\r\n",
    "𝑷 =\r\n",
    "𝑭\r\n",
    "𝑨\r\n",
    "P = pressure\r\n",
    "F = force\r\n",
    "A = area\r\n",
    "Take F(force) and A(area) as inputs from the user"
   ]
  },
  {
   "cell_type": "code",
   "execution_count": 56,
   "id": "dc9ebd87-3980-4aee-9b40-5711e3e4008e",
   "metadata": {},
   "outputs": [
    {
     "name": "stdin",
     "output_type": "stream",
     "text": [
      "Enter the value force of force in newton: 12\n",
      "enter the area in meter square: 5\n"
     ]
    },
    {
     "name": "stdout",
     "output_type": "stream",
     "text": [
      "the pressure exerted by a force is:60.0\n"
     ]
    }
   ],
   "source": [
    "force = float(input(\"Enter the value force of force in newton:\"))\n",
    "area = float(input(\"enter the area in meter square:\"))\n",
    "pressure = force*area \n",
    "print(f\"the pressure exerted by a force is:{pressure}\")"
   ]
  },
  {
   "cell_type": "markdown",
   "id": "4258a88f-5b4c-42b4-a5cd-600a078f2098",
   "metadata": {},
   "source": [
    "# 16) Electric Power:\r\n",
    "Write a Python program to calculate the electric power consumed. Use the formula\n",
    "p = v/i:\r\n",
    "where:\r\n",
    "P = power\r\n",
    "V = voltage\r\n",
    "I = current\r\n",
    "Take V(voltage) and I(current) as inputs from the user.\r"
   ]
  },
  {
   "cell_type": "code",
   "execution_count": 59,
   "id": "0958fb03-4a2d-4895-8803-4a303b83dd9e",
   "metadata": {},
   "outputs": [
    {
     "name": "stdin",
     "output_type": "stream",
     "text": [
      "Enter the voltage in volts 20\n",
      "Enter the current in amperes: 25\n"
     ]
    },
    {
     "name": "stdout",
     "output_type": "stream",
     "text": [
      "the electric power consumed is:0.8\n"
     ]
    }
   ],
   "source": [
    "V = float(input(\"Enter the voltage in volts\"))\n",
    "I = float(input(\"Enter the current in amperes:\"))\n",
    "p = V/I\n",
    "print(f\"the electric power consumed is:{p}\")"
   ]
  },
  {
   "cell_type": "markdown",
   "id": "c2055ea0-d6b5-4656-bd2c-325a884f5117",
   "metadata": {},
   "source": [
    "# 17) Perimeter of a Circle (Circumference):\r\n",
    "Write a Python program to calculate the perimeter (circumference) of a circle. Use the\r\n",
    "formul P = 2πra:\r\n",
    "Take r (radius) as input from the user"
   ]
  },
  {
   "cell_type": "code",
   "execution_count": 60,
   "id": "44002c11-eb0d-4908-8beb-0e133b52d7d3",
   "metadata": {},
   "outputs": [
    {
     "name": "stdin",
     "output_type": "stream",
     "text": [
      "Enter the adius of the cylinder in meter 10\n"
     ]
    },
    {
     "name": "stdout",
     "output_type": "stream",
     "text": [
      "the circumference of a circle is:125.67999999999999\n"
     ]
    }
   ],
   "source": [
    "radius == float(input(\"Enter the adius of the cylinder in meter\"))\n",
    "P = 2*3.142*radius\n",
    "print(f\"the circumference of a circle is:{P}\")"
   ]
  },
  {
   "cell_type": "markdown",
   "id": "d11ddd5c-831c-4bbb-b751-8147df05a9d4",
   "metadata": {},
   "source": [
    "# 18) Future Value in Savings:\r\n",
    "Write a Python program to calculate the future value of an investment. Use the formula:\r\n",
    "𝐹𝑉 = 𝑃𝑉(1 + �**t\n",
    "\n",
    "௧\r\n",
    "where:\r\n",
    "o FV= future value\r\n",
    "o PV= present value\r\n",
    "o r= annual interest rate (as a decimal)\r\n",
    "o t= time in years\r\n",
    "Take PV, r, and t as inputs from the user."
   ]
  },
  {
   "cell_type": "code",
   "execution_count": 65,
   "id": "5f1f4e6b-a748-4d7c-b98e-2591dffc0a98",
   "metadata": {},
   "outputs": [
    {
     "name": "stdin",
     "output_type": "stream",
     "text": [
      "Enter the present value (initial investment): $ 1000\n",
      "Enter the annual interest rate (as a decimal):  500\n",
      "Enter the number of years:  2\n"
     ]
    },
    {
     "name": "stdout",
     "output_type": "stream",
     "text": [
      "the future value of an investment is:$9000.0\n"
     ]
    }
   ],
   "source": [
    "PV = float(input(\"Enter the present value (initial investment): $\"))\n",
    "r = float(input(\"Enter the annual interest rate (as a decimal): \"))\n",
    "t = int(input(\"Enter the number of years: \"))\n",
    "FV = PV*(1+t)**t\n",
    "print(f\"the future value of an investment is:${FV}\")"
   ]
  },
  {
   "cell_type": "markdown",
   "id": "f161d14b-3391-4a11-9eda-cf548c4daf82",
   "metadata": {},
   "source": [
    "# 19) Work Done by a Force:\n",
    "Write a Python program to calculate the work done by a force. Use the formula:\n",
    "W = f.dcos(θ)\n",
    "where:\n",
    "W = work done\n",
    "f= force\n",
    "d = distance\n",
    "theta = angle between force and direction of movement (in degrees)\n",
    "Take f, d, and θ as inputs from the user.\n"
   ]
  },
  {
   "cell_type": "code",
   "execution_count": 70,
   "id": "22aef295-c987-47f0-b49d-4e957002013f",
   "metadata": {},
   "outputs": [
    {
     "name": "stdin",
     "output_type": "stream",
     "text": [
      "Enter the force applied (in Newtons):  50\n",
      "Enter the distance moved (in meters):  10\n",
      "Enter the angle between force and direction of movement (in degrees):  30\n"
     ]
    },
    {
     "name": "stdout",
     "output_type": "stream",
     "text": [
      "the work done by the force is :77.12572494379202joules\n"
     ]
    }
   ],
   "source": [
    "f = float(input(\"Enter the force applied (in Newtons): \"))\n",
    "d = float(input(\"Enter the distance moved (in meters): \"))\n",
    "θ= float(input(\"Enter the angle between force and direction of movement (in degrees): \"))\n",
    "W = f * d * math.cos(θ)\n",
    "print(f\"the work done by the force is :{W}joules\")"
   ]
  },
  {
   "cell_type": "markdown",
   "id": "a674ee51-f632-43cb-8b28-bd0f28d8abbb",
   "metadata": {},
   "source": [
    "# 20) Heat Transfer:\r\n",
    "Write a Python program to calculate the amount of heat transferred. Use the formula:\r\n",
    "𝑄 = 𝑚𝑐 (∆T)\r\n",
    "where:\r\n",
    "Q= heat transfer\r\n",
    "m = mass\r\n",
    "c = specific heat capacity\r\n",
    "ΔT\r\n",
    "Take m, c, T as inputs from the user."
   ]
  },
  {
   "cell_type": "code",
   "execution_count": 73,
   "id": "0c889ddf-9a2d-44d1-825b-c980c48afecf",
   "metadata": {},
   "outputs": [
    {
     "name": "stdin",
     "output_type": "stream",
     "text": [
      "Enter the mass of the substance (in kg):  20\n",
      "Enter the specific heat capacity (in J/kg°C):  25\n",
      "Enter the initial temperature (in °C):  15\n",
      "Enter the final temperature (in °C):  25\n"
     ]
    },
    {
     "name": "stdout",
     "output_type": "stream",
     "text": [
      "the amount of heat transfer is:5000.0joules\n"
     ]
    }
   ],
   "source": [
    "m = float(input(\"Enter the mass of the substance (in kg): \"))\n",
    "c = float(input(\"Enter the specific heat capacity (in J/kg°C): \"))\n",
    "T_initial = float(input(\"Enter the initial temperature (in °C): \"))\n",
    "T_final = float(input(\"Enter the final temperature (in °C): \"))\n",
    "ΔT = T_final - T_initial \n",
    "𝑄 = 𝑚*𝑐 *  ΔT \n",
    "print(f\"the amount of heat transfer is:{Q}joules\")"
   ]
  },
  {
   "cell_type": "code",
   "execution_count": null,
   "id": "2a6530f3-bff5-42e4-a3f9-083a69129f5a",
   "metadata": {},
   "outputs": [],
   "source": []
  }
 ],
 "metadata": {
  "kernelspec": {
   "display_name": "Python 3 (ipykernel)",
   "language": "python",
   "name": "python3"
  },
  "language_info": {
   "codemirror_mode": {
    "name": "ipython",
    "version": 3
   },
   "file_extension": ".py",
   "mimetype": "text/x-python",
   "name": "python",
   "nbconvert_exporter": "python",
   "pygments_lexer": "ipython3",
   "version": "3.11.7"
  }
 },
 "nbformat": 4,
 "nbformat_minor": 5
}

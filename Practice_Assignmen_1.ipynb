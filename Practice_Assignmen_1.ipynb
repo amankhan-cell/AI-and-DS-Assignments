{
 "cells": [
  {
   "cell_type": "markdown",
   "metadata": {
    "id": "CUdxU51J52Jc"
   },
   "source": [
    "# Topic: print()"
   ]
  },
  {
   "cell_type": "markdown",
   "metadata": {
    "id": "O4XtVMeN52Ji"
   },
   "source": [
    "1) Using the python print function print any string value, integer value, boolean value, float value in single print command"
   ]
  },
  {
   "cell_type": "code",
   "execution_count": 2,
   "metadata": {},
   "outputs": [
    {
     "name": "stdout",
     "output_type": "stream",
     "text": [
      "myself aman 21 True 13.3\n"
     ]
    }
   ],
   "source": [
    "string_value = \"myself aman\"\n",
    "integer_value = 21\n",
    "boolean_value = True\n",
    "float_value = 13.3\n",
    "print(string_value,integer_value,boolean_value,float_value)"
   ]
  },
  {
   "cell_type": "markdown",
   "metadata": {
    "id": "iNinlTd052Jr"
   },
   "source": [
    "2) Using the python print function print hyphon(-) separated any string value, integer value, boolean value, float value in single print command"
   ]
  },
  {
   "cell_type": "code",
   "execution_count": 3,
   "metadata": {},
   "outputs": [
    {
     "name": "stdout",
     "output_type": "stream",
     "text": [
      "myself aman-21-True-13.3\n"
     ]
    }
   ],
   "source": [
    "print(string_value,integer_value,boolean_value,float_value, sep=\"-\")"
   ]
  },
  {
   "cell_type": "markdown",
   "metadata": {
    "id": "4fNVS99O52Jt"
   },
   "source": [
    "3) Using the python print function print any string value, integer value, boolean value, float value in separate print command.\n",
    "But every value must be space separated and in single line"
   ]
  },
  {
   "cell_type": "code",
   "execution_count": 4,
   "metadata": {},
   "outputs": [
    {
     "name": "stdout",
     "output_type": "stream",
     "text": [
      "myself aman 21 True 13.3\n"
     ]
    }
   ],
   "source": [
    "print(string_value,integer_value,boolean_value,float_value,sep=\" \")"
   ]
  },
  {
   "cell_type": "markdown",
   "metadata": {
    "id": "akEUFstT52Jv"
   },
   "source": [
    "4) Can a python print function take no value to print???\n"
   ]
  },
  {
   "cell_type": "code",
   "execution_count": 5,
   "metadata": {},
   "outputs": [
    {
     "name": "stdout",
     "output_type": "stream",
     "text": [
      "\n"
     ]
    }
   ],
   "source": [
    "print()"
   ]
  },
  {
   "cell_type": "markdown",
   "metadata": {
    "id": "vFPOFKW_52Jx"
   },
   "source": [
    "# TOPIC :Variables in Python Operators"
   ]
  },
  {
   "cell_type": "markdown",
   "metadata": {
    "id": "AzBzVODl52Jy"
   },
   "source": [
    "5) One of my friends name is Mr. Ahmed. He is 30 years old.  He is a lawer by profession. He has done his bachelors in law in the year 2005. He is working with a reputable law firm 'The Himalya Associates' in Karachi since 2015.\n",
    "He is a handsome lawer with height of 5.10 feets and weight 70600g. His monthly income is Rs. 200k PKR.\n",
    "\n",
    "Note: Create variables from above text and also assign values from the text.  "
   ]
  },
  {
   "cell_type": "code",
   "execution_count": 11,
   "metadata": {},
   "outputs": [
    {
     "name": "stdout",
     "output_type": "stream",
     "text": [
      "Mr. Ahmed\n",
      "Age: 30\n",
      "Profession: Lawyer\n",
      "Degree: Bachelors in Law\n",
      "Graduation Year: 2005\n",
      "Working at: The Himalya Associates, Karachi since 2015\n",
      "Height: 5.1 feet\n",
      "Weight: 70600 grams\n",
      "Monthly Income: Rs. 200000 PKR\n"
     ]
    }
   ],
   "source": [
    "# Personal details\n",
    "name = \"Mr. Ahmed\"\n",
    "age = 30\n",
    "profession = \"Lawyer\"\n",
    "\n",
    "# Education details\n",
    "degree = \"Bachelors in Law\"\n",
    "graduation_year = 2005\n",
    "\n",
    "# Work details\n",
    "company_name = \"The Himalya Associates\"\n",
    "location = \"Karachi\"\n",
    "start_year = 2015\n",
    "\n",
    "# Physical attributes\n",
    "height_feet = 5.10\n",
    "weight_grams = 70600\n",
    "\n",
    "# Income details\n",
    "monthly_income_pkr = 200000\n",
    "\n",
    "# Displaying the information\n",
    "print(name)\n",
    "print(f\"Age: {age}\")\n",
    "print(f\"Profession: {profession}\")\n",
    "print(f\"Degree: {degree}\")\n",
    "print(f\"Graduation Year: {graduation_year}\")\n",
    "print(f\"Working at: {company_name}, {location} since {start_year}\")\n",
    "print(f\"Height: {height_feet} feet\")\n",
    "print(f\"Weight: {weight_grams} grams\")\n",
    "print(f\"Monthly Income: Rs. {monthly_income_pkr} PKR\")\n",
    "\n"
   ]
  },
  {
   "cell_type": "markdown",
   "metadata": {
    "id": "Uaf--v5S52J0"
   },
   "source": [
    "6)How many years has been to Mr. Ahmed after his bachelors degree? Create a variable that hold current year value and then subtract it from his passout year"
   ]
  },
  {
   "cell_type": "code",
   "execution_count": 7,
   "metadata": {},
   "outputs": [
    {
     "name": "stdout",
     "output_type": "stream",
     "text": [
      "years_since_graduation: 19\n"
     ]
    }
   ],
   "source": [
    "current_year = 2024\n",
    "graduation_year = 2005\n",
    "years_since_graduation = current_year - graduation_year\n",
    "print(f\"years_since_graduation: {years_since_graduation}\")"
   ]
  },
  {
   "cell_type": "code",
   "execution_count": 3,
   "metadata": {},
   "outputs": [
    {
     "name": "stdout",
     "output_type": "stream",
     "text": [
      "current_year: 2024 - graduation_year: 2005 = 19\n"
     ]
    }
   ],
   "source": [
    "current_year = 2024\n",
    "graduation_year = 2005\n",
    "print(f\"current_year: {current_year} - graduation_year: {graduation_year} = {current_year - graduation_year}\")\n"
   ]
  },
  {
   "cell_type": "code",
   "execution_count": 48,
   "metadata": {},
   "outputs": [
    {
     "data": {
      "text/plain": [
       "19"
      ]
     },
     "execution_count": 48,
     "metadata": {},
     "output_type": "execute_result"
    }
   ],
   "source": [
    "current_year = 2024\n",
    "graduatin_year = 2005\n",
    "current_year-graduatin_year"
   ]
  },
  {
   "cell_type": "markdown",
   "metadata": {
    "id": "SAQtVyvD52J1"
   },
   "source": [
    "7) How many years has Mr. Ahmed been working with law firm 'The Himalya Associates'. Create necesary variables and print the correct number of years in working in the firm"
   ]
  },
  {
   "cell_type": "code",
   "execution_count": 9,
   "metadata": {},
   "outputs": [
    {
     "name": "stdout",
     "output_type": "stream",
     "text": [
      "years_since_joining: 9\n"
     ]
    }
   ],
   "source": [
    "current_year = 2024\n",
    "joining_year = 2015\n",
    "years_since_joining = current_year - joining_year\n",
    "print(f\"years_since_joining: {years_since_joining}\")"
   ]
  },
  {
   "cell_type": "code",
   "execution_count": 6,
   "metadata": {},
   "outputs": [
    {
     "name": "stdout",
     "output_type": "stream",
     "text": [
      "current_year: 2024 - joining_yera: 2015 = 9\n"
     ]
    }
   ],
   "source": [
    "current_year = 2024\n",
    "joining_yera = 2015\n",
    "print(f\"current_year: {current_year} - joining_yera: {joining_yera} = {current_year-joining_yera }\")"
   ]
  },
  {
   "cell_type": "code",
   "execution_count": 10,
   "metadata": {},
   "outputs": [
    {
     "data": {
      "text/plain": [
       "9"
      ]
     },
     "execution_count": 10,
     "metadata": {},
     "output_type": "execute_result"
    }
   ],
   "source": [
    "\n",
    "current_year = 2024\n",
    "joining_year = 2015\n",
    "current_year-joining_year"
   ]
  },
  {
   "cell_type": "markdown",
   "metadata": {
    "id": "Gnk1kIUj52J3"
   },
   "source": [
    "8)Convert the monthly income of Mr. Ahmed in dollars.  Create necesary variables and print the income in dollars."
   ]
  },
  {
   "cell_type": "code",
   "execution_count": 18,
   "metadata": {},
   "outputs": [
    {
     "name": "stdout",
     "output_type": "stream",
     "text": [
      "714.2857142857143.USD\n"
     ]
    }
   ],
   "source": [
    "\n",
    "monthly_income_in_pkr = 200000 \n",
    "exchange_rate = 280 \n",
    "\n",
    "monthly_income_in_usd = monthly_income_in_pkr / exchange_rate\n",
    "\n",
    "print(f\"{monthly_income_in_usd}.USD\")\n"
   ]
  },
  {
   "cell_type": "markdown",
   "metadata": {
    "id": "Adx4oblF52J4"
   },
   "source": [
    "9) Check if the income in dollars is a float or integer value. if it is float, re-write the code so that income gets converted in integer. print the income in integer type value"
   ]
  },
  {
   "cell_type": "code",
   "execution_count": 22,
   "metadata": {},
   "outputs": [
    {
     "name": "stdout",
     "output_type": "stream",
     "text": [
      "714\n"
     ]
    }
   ],
   "source": [
    "income_in_dollars = 714.2857142857143\n",
    "value = int(income_in_dollars)\n",
    "print(value)"
   ]
  },
  {
   "cell_type": "raw",
   "metadata": {
    "id": "NcYepWgZ52J5"
   },
   "source": [
    "10) Print the type of Mr. Ahmed's weight. Convert the weight of Mr. Ahmed in kg so that weight must be a integer value."
   ]
  },
  {
   "cell_type": "code",
   "execution_count": 29,
   "metadata": {},
   "outputs": [
    {
     "name": "stdout",
     "output_type": "stream",
     "text": [
      "70kg\n"
     ]
    }
   ],
   "source": [
    "weight_g = 70600\n",
    "weight_kg = weight_g//1000\n",
    "print(f\"{weight_kg}kg\")"
   ]
  },
  {
   "cell_type": "code",
   "execution_count": 22,
   "metadata": {
    "id": "05FU1XHw52J7"
   },
   "outputs": [
    {
     "data": {
      "text/plain": [
       "1994"
      ]
     },
     "execution_count": 22,
     "metadata": {},
     "output_type": "execute_result"
    }
   ],
   "source": [
    "#11) print the year of birth of Mr. Ahmed."
   ]
  },
  {
   "cell_type": "code",
   "execution_count": 30,
   "metadata": {
    "id": "paq_3Kg152J8"
   },
   "outputs": [
    {
     "name": "stdout",
     "output_type": "stream",
     "text": [
      "Mr. Ahmed's year of birth is: 1994\n"
     ]
    }
   ],
   "source": [
    "#type your code here\n",
    "age = 30\n",
    "current_year = 2024\n",
    "year_of_birth = current_year - age\n",
    "print(f\"Mr. Ahmed's year of birth is: {year_of_birth}\")\n"
   ]
  },
  {
   "cell_type": "markdown",
   "metadata": {
    "id": "eWySSgh552J8"
   },
   "source": [
    "12) Can Rs. 100 be divided equally among 6 students?\n",
    "HINT: % operator (modulo)"
   ]
  },
  {
   "cell_type": "code",
   "execution_count": 41,
   "metadata": {},
   "outputs": [
    {
     "name": "stdout",
     "output_type": "stream",
     "text": [
      "Rs. 100 can not be divided equally among 6 students\n"
     ]
    }
   ],
   "source": [
    "amount = 100\n",
    "students = 6\n",
    "if amount % students == 0:\n",
    "    print(\"Rs. 100 can be divided equally among 6 students\")\n",
    "else:\n",
    "    print(\"Rs. 100 can not be divided equally among 6 students\")"
   ]
  },
  {
   "cell_type": "code",
   "execution_count": null,
   "metadata": {
    "id": "RYc0Ks7g52J-",
    "outputId": "0e2425ca-fbed-4c24-b659-e52ef2d0674e"
   },
   "outputs": [
    {
     "data": {
      "text/plain": [
       "0"
      ]
     },
     "execution_count": 9,
     "metadata": {},
     "output_type": "execute_result"
    }
   ],
   "source": [
    "10%2\n",
    "# 10 is completely divisible by2\n",
    "# 10 is multiple of 2\n",
    "# 2 is a factor of 10\n",
    "# 10 comes in table of 2"
   ]
  },
  {
   "cell_type": "raw",
   "metadata": {
    "id": "S2nqgbLV52J_"
   },
   "source": [
    "                                                Saylani Mass IT \n",
    "                                              Name   : Aman khan\n",
    "                                              Course : AI and DS\n",
    "                                         Days   : Tuesday and Thursday\n",
    "                                              ID     : AI - 333181\n",
    "             \n",
    "             "
   ]
  },
  {
   "cell_type": "code",
   "execution_count": null,
   "metadata": {},
   "outputs": [],
   "source": []
  }
 ],
 "metadata": {
  "colab": {
   "provenance": []
  },
  "kernelspec": {
   "display_name": "Python 3 (ipykernel)",
   "language": "python",
   "name": "python3"
  },
  "language_info": {
   "codemirror_mode": {
    "name": "ipython",
    "version": 3
   },
   "file_extension": ".py",
   "mimetype": "text/x-python",
   "name": "python",
   "nbconvert_exporter": "python",
   "pygments_lexer": "ipython3",
   "version": "3.11.7"
  }
 },
 "nbformat": 4,
 "nbformat_minor": 4
}

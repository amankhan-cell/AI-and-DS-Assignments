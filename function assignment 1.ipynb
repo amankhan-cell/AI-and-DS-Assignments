{
 "cells": [
  {
   "cell_type": "markdown",
   "id": "059e4ecd-54e6-4e2f-abb7-a72b3187930e",
   "metadata": {},
   "source": [
    "# 1. Write a Python function to find the maximum of three numbers."
   ]
  },
  {
   "cell_type": "code",
   "execution_count": 1,
   "id": "07240808-d5fc-405e-9987-f4df398d358b",
   "metadata": {},
   "outputs": [
    {
     "name": "stdout",
     "output_type": "stream",
     "text": [
      "The maximum value is: 20\n"
     ]
    }
   ],
   "source": [
    "def find_maximum(a, b, c):\n",
    "    return max(a, b, c)\n",
    "num1 = 10\n",
    "num2 = 20\n",
    "num3 = 15\n",
    "maximum_value = find_maximum(num1, num2, num3)\n",
    "print(f\"The maximum value is: {maximum_value}\")"
   ]
  },
  {
   "cell_type": "markdown",
   "id": "d210820f-c81a-4e51-aa53-6938e9e54f09",
   "metadata": {},
   "source": [
    "# 2. Write a Python function to sum all the numbers in a list.\r\n",
    "Sample List : (8, 2, 3, 0, 7)\r\n",
    "Expected Output : 20 \r"
   ]
  },
  {
   "cell_type": "code",
   "execution_count": 3,
   "id": "d664e9f5-6c35-40b3-9714-3279d2af44b4",
   "metadata": {},
   "outputs": [
    {
     "name": "stdout",
     "output_type": "stream",
     "text": [
      "The sum of the list is: 20\n"
     ]
    }
   ],
   "source": [
    "def sum_of_list(numbers):\n",
    "    return sum(numbers)\n",
    "sample_list = [8, 2, 3, 0, 7]\n",
    "total = sum_of_list(sample_list)\n",
    "print(f\"The sum of the list is: {total}\") "
   ]
  },
  {
   "cell_type": "markdown",
   "id": "94ddd3d4-5b0d-4d31-b04c-f43a4ad45eae",
   "metadata": {},
   "source": [
    "# 3. Write a Python function to multiply all the numbers in a list.\r\n",
    "Sample List : (8, 2, 3, -1, 7)\r\n",
    "Expected Output : -336 \r"
   ]
  },
  {
   "cell_type": "code",
   "execution_count": 4,
   "id": "f1688aae-9cd3-41ab-b90c-18ce47e79dfd",
   "metadata": {},
   "outputs": [
    {
     "name": "stdout",
     "output_type": "stream",
     "text": [
      "The product of the list is: -336\n"
     ]
    }
   ],
   "source": [
    "def multiply_of_list(numbers):\n",
    "    result = 1\n",
    "    for num in numbers:\n",
    "        result *= num\n",
    "    return result\n",
    "sample_list = [8, 2, 3, -1, 7]\n",
    "total_product = multiply_of_list(sample_list)\n",
    "print(f\"The product of the list is: {total_product}\")"
   ]
  },
  {
   "cell_type": "markdown",
   "id": "72da9154-a035-4e4c-89ab-aad0adedf440",
   "metadata": {},
   "source": [
    "# 4. Write a Python program to reverse a string.\n",
    "Sample String : \"1234abcd\"\n",
    "Expected Output : \"dcba4321\""
   ]
  },
  {
   "cell_type": "code",
   "execution_count": 8,
   "id": "4a881d4b-bba4-46f3-8754-ae00e59c173b",
   "metadata": {},
   "outputs": [
    {
     "name": "stdout",
     "output_type": "stream",
     "text": [
      "The reversed string is: dcba4321\n"
     ]
    }
   ],
   "source": [
    "def reverse_string(s):\n",
    "    return s[::-1]\n",
    "sample_string = \"1234abcd\"\n",
    "reversed_string = reverse_string(sample_string)\n",
    "print(f\"The reversed string is: {reversed_string}\")"
   ]
  },
  {
   "cell_type": "markdown",
   "id": "fa9a78f9-692c-4657-8190-fa7bdadea5a8",
   "metadata": {},
   "source": [
    "# 5. Write a Python function to calculate the factorial of a number (a non-negative\r\n",
    "integer). The function accepts the number as an argument."
   ]
  },
  {
   "cell_type": "code",
   "execution_count": 9,
   "id": "9469c179-e22d-480f-bdcd-67ba23a8d9a3",
   "metadata": {},
   "outputs": [
    {
     "name": "stdout",
     "output_type": "stream",
     "text": [
      "The factorial of 5 is: 120\n"
     ]
    }
   ],
   "source": [
    "def factorial(n):\n",
    "    if n == 0 or n == 1:\n",
    "        return 1\n",
    "    else:\n",
    "        result = 1\n",
    "        for i in range(2, n + 1):\n",
    "            result *= i\n",
    "        return result\n",
    "num = 5\n",
    "result = factorial(num)\n",
    "print(f\"The factorial of {num} is: {result}\")"
   ]
  },
  {
   "cell_type": "markdown",
   "id": "529cb1a0-7272-4967-bf8f-e3ea64a57482",
   "metadata": {},
   "source": [
    "# 6. Write a Python function to check whether a number falls within a given range. "
   ]
  },
  {
   "cell_type": "code",
   "execution_count": 14,
   "id": "b7dffb51-e34b-4c9d-b904-abf7f24a6f5c",
   "metadata": {},
   "outputs": [
    {
     "name": "stdout",
     "output_type": "stream",
     "text": [
      "15 is within the range 10 to 20.\n"
     ]
    }
   ],
   "source": [
    "def is_within_range(num, start, end):\n",
    "    if start <= num <= end:\n",
    "        return True\n",
    "    else:\n",
    "        return False\n",
    "num = 15\n",
    "start = 10\n",
    "end = 20\n",
    "result = is_within_range(num, start, end)\n",
    "if result:\n",
    "    print(f\"{num} is within the range {start} to {end}.\")\n",
    "else:\n",
    "    print(f\"{num} is not within the range {start} to {end}.\")"
   ]
  },
  {
   "cell_type": "markdown",
   "id": "53f8e7d6-8b25-4daa-90b6-3425e6d83c00",
   "metadata": {},
   "source": [
    "# 7. Write a Python function that accepts a string and counts the number of upper\r\n",
    "and lower case letters.\r\n",
    "Sample String : 'The quick Brow Fox'\r\n",
    "Expected Output :\r\n",
    "No. of Upper case characters : 3\r\n",
    "No. of Lower case Characters : 12 \r"
   ]
  },
  {
   "cell_type": "code",
   "execution_count": 17,
   "id": "073853cd-53a3-4c4c-8df7-517e5ae1e255",
   "metadata": {},
   "outputs": [
    {
     "name": "stdout",
     "output_type": "stream",
     "text": [
      "No. of Upper case characters: 3\n",
      "No. of Lower case characters: 12\n"
     ]
    }
   ],
   "source": [
    "def count_case(s):\n",
    "    upper_count = 0\n",
    "    lower_count = 0\n",
    "    \n",
    "    for char in s:\n",
    "        if char.isupper():\n",
    "            upper_count += 1\n",
    "        elif char.islower():\n",
    "            lower_count += 1\n",
    "    \n",
    "    print(\"No. of Upper case characters:\", upper_count)\n",
    "    print(\"No. of Lower case characters:\", lower_count)\n",
    "sample_string = 'The quick Brow Fox'\n",
    "count_case(sample_string)"
   ]
  },
  {
   "cell_type": "markdown",
   "id": "4d690981-40bb-473f-9a3c-50c26c0ad9ba",
   "metadata": {},
   "source": [
    "# 8. Write a Python function that takes a list and returns a new list with distinct\r\n",
    "elements from the first list.\r\n",
    "Sample List : [1,2,3,3,3,3,4,5]\r\n",
    "Unique List : [1, 2, 3, 4, 5] "
   ]
  },
  {
   "cell_type": "code",
   "execution_count": 20,
   "id": "7d2c8532-9945-4589-88ec-21a4f1e36e1f",
   "metadata": {},
   "outputs": [
    {
     "name": "stdout",
     "output_type": "stream",
     "text": [
      "Sample List: [1, 2, 3, 3, 3, 3, 4, 5]\n",
      "Unique List: [1, 2, 3, 4, 5]\n"
     ]
    }
   ],
   "source": [
    "def get_unique_elements(input_list):\n",
    "    \"\"\"\n",
    "    Takes a list and returns a new list with distinct elements.\n",
    "    \"\"\"\n",
    "    return list(set(input_list))\n",
    "sample_list = [1, 2, 3, 3, 3, 3, 4, 5]\n",
    "unique_list = get_unique_elements(sample_list)\n",
    "print(\"Sample List:\", sample_list)\n",
    "print(\"Unique List:\", unique_list)"
   ]
  },
  {
   "cell_type": "markdown",
   "id": "d8fec618-eaac-4cfb-a7d1-459e386d185a",
   "metadata": {},
   "source": [
    "# 9. Write a Python function that takes a number as a parameter and checks\n",
    "whether the number is prime or not.\n",
    "Note : A prime number (or a prime) is a natural number greater than 1 and that\n",
    "has no positive divisors other than 1 and itself. "
   ]
  },
  {
   "cell_type": "code",
   "execution_count": 21,
   "id": "9513461e-f77c-4ccb-9d10-68d6b7345203",
   "metadata": {},
   "outputs": [
    {
     "name": "stdout",
     "output_type": "stream",
     "text": [
      "29 is a prime number.\n"
     ]
    }
   ],
   "source": [
    "import math\n",
    "def is_prime(n):\n",
    "    if n <= 1:\n",
    "        return False\n",
    "    for i in range(2, int(math.sqrt(n)) + 1):\n",
    "        if n % i == 0:\n",
    "            return False\n",
    "    \n",
    "    return True\n",
    "number = 29\n",
    "if is_prime(number):\n",
    "    print(f\"{number} is a prime number.\")\n",
    "else:\n",
    "    print(f\"{number} is not a prime number.\")"
   ]
  },
  {
   "cell_type": "markdown",
   "id": "5bc77f6d-8d8c-44c4-ab12-06fe6f5bfeb6",
   "metadata": {},
   "source": [
    "# 10. Write a Python program to print the even numbers from a given list.\n",
    "Sample List : [1, 2, 3, 4, 5, 6, 7, 8, 9]\n",
    "Expected Result : [2, 4, 6, 8] "
   ]
  },
  {
   "cell_type": "code",
   "execution_count": 22,
   "id": "7e328fdc-f425-4540-b105-fb2a6ea4b9d8",
   "metadata": {},
   "outputs": [
    {
     "name": "stdout",
     "output_type": "stream",
     "text": [
      "Sample List: [1, 2, 3, 4, 5, 6, 7, 8, 9]\n",
      "Expected Result: [2, 4, 6, 8]\n"
     ]
    }
   ],
   "source": [
    "def get_even_numbers(input_list):\n",
    "    \"\"\"\n",
    "    Returns a list of even numbers from the given list.\n",
    "    \"\"\"\n",
    "    return [num for num in input_list if num % 2 == 0]\n",
    "sample_list = [1, 2, 3, 4, 5, 6, 7, 8, 9]\n",
    "even_numbers = get_even_numbers(sample_list)\n",
    "print(\"Sample List:\", sample_list)\n",
    "print(\"Expected Result:\", even_numbers)"
   ]
  },
  {
   "cell_type": "markdown",
   "id": "0a49539e-8cb5-4d6b-aa7c-085dae48fbba",
   "metadata": {},
   "source": [
    "# 11. Write a Python function to check whether a number is \"Perfect\" or not.\r\n",
    "According to Wikipedia : In number theory, a perfect number is a positive integer\r\n",
    "that is equal to the sum of its proper positive divisors, that is, the sum of its\r\n",
    "positive divisors excluding the number itself (also known as its aliquot sum).\r\n",
    "Equivalently, a perfect number is a number that is half the sum of all of its\r\n",
    "positive divisors (including itself).\r\n",
    "Example : The first perfect number is 6, because 1, 2, and 3 are its proper positive\r\n",
    "divisors, and 1 + 2 + 3 = 6. Equivalently, the number 6 is equal to half the sum of\r\n",
    "all its positive divisors: ( 1 + 2 + 3 + 6 ) / 2 = 6. The next perfect number is 28 = 1 +\r\n",
    "2 + 4 + 7 + 14. This is followed by the perfect numbers 496 and 8128. \r"
   ]
  },
  {
   "cell_type": "code",
   "execution_count": 23,
   "id": "668eab48-2b97-4798-ad3c-8da02eacbe06",
   "metadata": {},
   "outputs": [
    {
     "name": "stdout",
     "output_type": "stream",
     "text": [
      "6 is a perfect number: True\n",
      "28 is a perfect number: True\n",
      "496 is a perfect number: True\n",
      "8128 is a perfect number: True\n",
      "12 is a perfect number: False\n"
     ]
    }
   ],
   "source": [
    "def is_perfect_number(number):\n",
    "    \"\"\"\n",
    "    Checks whether a number is a perfect number.\n",
    "    \n",
    "    Args:\n",
    "    number (int): The number to check.\n",
    "    \n",
    "    Returns:\n",
    "    bool: True if the number is perfect, False otherwise.\n",
    "    \"\"\"\n",
    "    if number <= 0:\n",
    "        return False\n",
    "    divisor_sum = sum(i for i in range(1, number) if number % i == 0)\n",
    "    return divisor_sum == number\n",
    "test_numbers = [6, 28, 496, 8128, 12]  \n",
    "for num in test_numbers:\n",
    "    print(f\"{num} is a perfect number: {is_perfect_number(num)}\")"
   ]
  },
  {
   "cell_type": "markdown",
   "id": "64a19d38-f441-4408-b74d-eed33e9872ac",
   "metadata": {},
   "source": [
    "# 12. Write a Python function that checks whether a passed string is a palindrome\r\n",
    "or not.\r\n",
    "Note: A palindrome is a word, phrase, or sequence that reads the same backward\r\n",
    "as forward, e.g., madam or nurses run. "
   ]
  },
  {
   "cell_type": "code",
   "execution_count": 24,
   "id": "d6b03b37-4f78-4dee-a042-7ec25936f841",
   "metadata": {},
   "outputs": [
    {
     "name": "stdout",
     "output_type": "stream",
     "text": [
      "'madam' is a palindrome: True\n",
      "'nurses run' is a palindrome: True\n",
      "'hello' is a palindrome: False\n",
      "'A man, a plan, a canal: Panama' is a palindrome: True\n"
     ]
    }
   ],
   "source": [
    "def is_palindrome(string):\n",
    "    \"\"\"\n",
    "    Checks whether a passed string is a palindrome.\n",
    "    \n",
    "    Args:\n",
    "    string (str): The string to check.\n",
    "    \n",
    "    Returns:\n",
    "    bool: True if the string is a palindrome, False otherwise.\n",
    "    \"\"\"\n",
    "    cleaned_string = ''.join(char.lower() for char in string if char.isalnum())\n",
    "    return cleaned_string == cleaned_string[::-1]\n",
    "test_strings = [\"madam\", \"nurses run\", \"hello\", \"A man, a plan, a canal: Panama\"]\n",
    "\n",
    "for test_string in test_strings:\n",
    "    print(f\"'{test_string}' is a palindrome: {is_palindrome(test_string)}\")"
   ]
  },
  {
   "cell_type": "code",
   "execution_count": null,
   "id": "2e63750d-617e-418d-83c8-2360e89b9866",
   "metadata": {},
   "outputs": [],
   "source": []
  }
 ],
 "metadata": {
  "kernelspec": {
   "display_name": "Python 3 (ipykernel)",
   "language": "python",
   "name": "python3"
  },
  "language_info": {
   "codemirror_mode": {
    "name": "ipython",
    "version": 3
   },
   "file_extension": ".py",
   "mimetype": "text/x-python",
   "name": "python",
   "nbconvert_exporter": "python",
   "pygments_lexer": "ipython3",
   "version": "3.11.7"
  }
 },
 "nbformat": 4,
 "nbformat_minor": 5
}

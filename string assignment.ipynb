{
 "cells": [
  {
   "cell_type": "markdown",
   "id": "280b6d77-1132-4953-9c10-c3fccfe3c31b",
   "metadata": {},
   "source": [
    "# Strings Assignments \r"
   ]
  },
  {
   "cell_type": "markdown",
   "id": "1e9e7f6d-0082-4a85-b072-6fcd3cf24da9",
   "metadata": {},
   "source": [
    "### 1. Write a program that accepts a string from user. Your program should count and display number of vowels in that string."
   ]
  },
  {
   "cell_type": "code",
   "execution_count": 4,
   "id": "2d3095e8-99f1-4bff-b20d-5f3fcb3b104f",
   "metadata": {},
   "outputs": [
    {
     "name": "stdin",
     "output_type": "stream",
     "text": [
      "Enter a string:  faheeem\n"
     ]
    },
    {
     "name": "stdout",
     "output_type": "stream",
     "text": [
      "Number of vowels in the string: 4\n"
     ]
    }
   ],
   "source": [
    "input_string = input(\"Enter a string: \")\n",
    "vowels = \"aeiouAEIOU\"\n",
    "vowel_count = 0\n",
    "for a in input_string:\n",
    "    if a in vowels: \n",
    "        vowel_count += 1\n",
    "print(f\"Number of vowels in the string: {vowel_count}\")\n"
   ]
  },
  {
   "cell_type": "markdown",
   "id": "906f3e6d-81da-442c-bef4-72e8967a52a8",
   "metadata": {},
   "source": [
    "###  2. Write a program that reads a string from keyboard and display: \n",
    "* The number of uppercase letters in the string \n",
    "* The number of lowercase letters in the string \n",
    "* The number of digits in the string \n",
    "* The number of whitespace characters in the string "
   ]
  },
  {
   "cell_type": "code",
   "execution_count": 7,
   "id": "ea9da9b0-d212-420c-8b99-ca90960173bd",
   "metadata": {},
   "outputs": [
    {
     "name": "stdin",
     "output_type": "stream",
     "text": [
      "Enter a string:  I am going to school at 8 o'clock\n"
     ]
    },
    {
     "name": "stdout",
     "output_type": "stream",
     "text": [
      "Number of uppercase letters: 1\n",
      "Number of lowercase letters: 23\n",
      "Number of digits: 1\n",
      "Number of whitespace characters: 7\n"
     ]
    }
   ],
   "source": [
    "input_string = input(\"Enter a string: \")\n",
    "uppercase_count = 0\n",
    "lowercase_count = 0\n",
    "digit_count = 0\n",
    "whitespace_count = 0\n",
    "for a in input_string:\n",
    "    if a.isupper():  \n",
    "        uppercase_count += 1\n",
    "    elif a.islower():  \n",
    "        lowercase_count += 1\n",
    "    elif a.isdigit():  \n",
    "        digit_count += 1\n",
    "    elif a.isspace():  \n",
    "        whitespace_count += 1\n",
    "print(f\"Number of uppercase letters: {uppercase_count}\")\n",
    "print(f\"Number of lowercase letters: {lowercase_count}\")\n",
    "print(f\"Number of digits: {digit_count}\")\n",
    "print(f\"Number of whitespace characters: {whitespace_count}\")"
   ]
  },
  {
   "cell_type": "markdown",
   "id": "d2f006c1-0f53-4672-a6b7-a7a27895db37",
   "metadata": {},
   "source": [
    "###  3. Write a Python program that accepts a string from user. Your program should create and display a new string where the first and last characters have been exchanged. \n",
    "\n",
    "For example if the user enters the string 'HELLO' then new string would be 'OELLH' \r"
   ]
  },
  {
   "cell_type": "code",
   "execution_count": 8,
   "id": "5893099e-b667-4439-8eac-2c019a79417a",
   "metadata": {},
   "outputs": [
    {
     "name": "stdin",
     "output_type": "stream",
     "text": [
      "Enter a string:  aman\n"
     ]
    },
    {
     "name": "stdout",
     "output_type": "stream",
     "text": [
      "New string after swapping first and last characters: nmaa\n"
     ]
    }
   ],
   "source": [
    "input_string = input(\"Enter a string: \")\n",
    "if len(input_string) > 1:\n",
    "    new_string = input_string[-1] + input_string[1:-1] + input_string[0]\n",
    "else:\n",
    "    new_string = input_string\n",
    "print(\"New string after swapping first and last characters:\", new_string)"
   ]
  },
  {
   "cell_type": "markdown",
   "id": "2d6b6f54-b54e-4ea7-ab53-996eb39ee085",
   "metadata": {},
   "source": [
    "###  4. Write a Python program that accepts a string from user. Your program should create a new string in reverse of first string and display it. \n",
    "For example if the user enters the string 'EXAM' then new string would be 'MAXE' \r"
   ]
  },
  {
   "cell_type": "code",
   "execution_count": 9,
   "id": "01979aa0-bf55-45f5-b3f6-d51bebcf6829",
   "metadata": {},
   "outputs": [
    {
     "name": "stdin",
     "output_type": "stream",
     "text": [
      "Enter a string:  anam\n"
     ]
    },
    {
     "name": "stdout",
     "output_type": "stream",
     "text": [
      "Reversed string: mana\n"
     ]
    }
   ],
   "source": [
    "input_string = input(\"Enter a string: \")\n",
    "reversed_string = input_string[::-1]\n",
    "print(\"Reversed string:\", reversed_string)"
   ]
  },
  {
   "cell_type": "markdown",
   "id": "6bfa43af-d249-4467-b3b3-5069f0bb1db3",
   "metadata": {},
   "source": [
    "###  5. Write a Python program that accepts a string from user. Your program should create a new string by \n",
    "shifting one position to lef\n",
    "For example if the user enters the string 'examination 2021' then new string would be 'xamination 2021e' \r",
    "t"
   ]
  },
  {
   "cell_type": "code",
   "execution_count": 12,
   "id": "be38fe52-121a-48a8-be8a-7dc738c0292e",
   "metadata": {},
   "outputs": [
    {
     "name": "stdin",
     "output_type": "stream",
     "text": [
      "Enter a string:  khan\n"
     ]
    },
    {
     "name": "stdout",
     "output_type": "stream",
     "text": [
      "New string after shifting one position to the left: hank\n"
     ]
    }
   ],
   "source": [
    "input_string = input(\"Enter a string: \")\n",
    "if len(input_string) > 1:\n",
    "    shifted_string = input_string[1:] + input_string[0]\n",
    "else:\n",
    "    shifted_string = input_string\n",
    "print(\"New string after shifting one position to the left:\", shifted_string)"
   ]
  },
  {
   "cell_type": "markdown",
   "id": "2ddfa3ae-c1ec-457f-a121-bf4811b73aa3",
   "metadata": {},
   "source": [
    "###  6. Write a program that asks the user to input his name and print its initials. Assuming that the user always types first name, middle name and last name and does not include any unnecessary spaces. \r",
    "For example, if the user enters Ajay Kumar Garg the program should display A. K. G. \n",
    "Note:Don't use split() method "
   ]
  },
  {
   "cell_type": "code",
   "execution_count": 13,
   "id": "94dc3465-ebf3-40f5-a6bb-db48b794fb4a",
   "metadata": {},
   "outputs": [
    {
     "name": "stdin",
     "output_type": "stream",
     "text": [
      "Enter your full name (first, middle, and last):  aman ullah khan\n"
     ]
    },
    {
     "name": "stdout",
     "output_type": "stream",
     "text": [
      "Initials: a. u. k.\n"
     ]
    }
   ],
   "source": [
    "full_name = input(\"Enter your full name (first, middle, and last): \")\n",
    "initials = \"\"\n",
    "space_positions = [i for i, a in enumerate(full_name) if a == ' ']\n",
    "initials += full_name[0] + '. '\n",
    "for i in range(len(space_positions)):\n",
    "    if i < len(space_positions) - 1:\n",
    "        initials += full_name[space_positions[i] + 1] + '. '\n",
    "    else:\n",
    "        initials += full_name[space_positions[i] + 1] + '.'\n",
    "print(\"Initials:\", initials)"
   ]
  },
  {
   "cell_type": "markdown",
   "id": "3371a2dd-3538-4dd3-b089-8936b2d8507c",
   "metadata": {},
   "source": [
    "### 7. A palindrome is a string that reads the same backward as forward. For example, the words dad, madam and radar are all palindromes. Write a programs that determines whether the string is a palindromes.\n",
    "Note: do not use reverse() method \r",
    "\r"
   ]
  },
  {
   "cell_type": "code",
   "execution_count": 16,
   "id": "1f5c04d8-2f22-493e-8dbf-10ee3343826c",
   "metadata": {},
   "outputs": [
    {
     "name": "stdin",
     "output_type": "stream",
     "text": [
      "Enter a string:  rollor\n"
     ]
    },
    {
     "name": "stdout",
     "output_type": "stream",
     "text": [
      "The string is a palindrome.\n"
     ]
    }
   ],
   "source": [
    "input_string = input(\"Enter a string: \")\n",
    "is_palindrome = True  \n",
    "for i in range(len(input_string) // 2):\n",
    "    if input_string[i] != input_string[-(i + 1)]:\n",
    "        is_palindrome = False\n",
    "        break  \n",
    "if is_palindrome:\n",
    "    print(\"The string is a palindrome.\")\n",
    "else:\n",
    "    print(\"The string is not a palindrome.\")"
   ]
  },
  {
   "cell_type": "markdown",
   "id": "a657eb25-92a4-48c4-9b5d-433f6049a1c2",
   "metadata": {},
   "source": [
    "### 8. Write a program that display following output: \r",
    "SHIFT,\n",
    "HIFTS,\n",
    "IFTSH,\n",
    "FTSHI,\n",
    "TSHIF,\r",
    "SHIFT,"
   ]
  },
  {
   "cell_type": "code",
   "execution_count": 17,
   "id": "6cff7478-a6ed-4ff5-98ad-09a146a10fb4",
   "metadata": {},
   "outputs": [
    {
     "name": "stdout",
     "output_type": "stream",
     "text": [
      "SHIFT\n",
      "HIFTS\n",
      "IFTSH\n",
      "FTSHI\n",
      "TSHIF\n"
     ]
    }
   ],
   "source": [
    "text = \"SHIFT\"\n",
    "for i in range(len(text)):\n",
    "    print(text[i:] + text[:i])"
   ]
  },
  {
   "cell_type": "markdown",
   "id": "48b1e517-5b35-4f88-9f58-1f41f8adad1a",
   "metadata": {},
   "source": [
    "###  9. Write a program in python that accepts a string to setup a passwords. Your entered password must meet the following requirements: \n",
    "The password must be at least eight characters long.,  \r",
    "It must contain at least one uppercase letter.,  \r",
    "It must contain at least one lowercase letter.,  \r",
    "It must contain at least one numeric digit.,  \r",
    "Your program should should perform this validation.,   "
   ]
  },
  {
   "cell_type": "code",
   "execution_count": 18,
   "id": "15196cee-ff15-4173-8ef8-f33116ee91cc",
   "metadata": {},
   "outputs": [
    {
     "name": "stdin",
     "output_type": "stream",
     "text": [
      "Enter a password:  Aman khan 20\n"
     ]
    },
    {
     "name": "stdout",
     "output_type": "stream",
     "text": [
      "Password is valid.\n"
     ]
    }
   ],
   "source": [
    "import re\n",
    "def validate_password(password):\n",
    "\n",
    "    if len(password) < 8:\n",
    "        return \"Password must be at least 8 characters long.\"\n",
    "    if not any(char.isupper() for char in password):\n",
    "        return \"Password must contain at least one uppercase letter.\"\n",
    "    if not any(char.islower() for char in password):\n",
    "        return \"Password must contain at least one lowercase letter.\"\n",
    "    if not any(char.isdigit() for char in password):\n",
    "        return \"Password must contain at least one numeric digit.\"\n",
    "    return \"Password is valid.\"\n",
    "password = input(\"Enter a password: \")\n",
    "print(validate_password(password))"
   ]
  },
  {
   "cell_type": "code",
   "execution_count": null,
   "id": "0601d412-15b9-4e04-bc79-55567a0b9340",
   "metadata": {},
   "outputs": [],
   "source": []
  }
 ],
 "metadata": {
  "kernelspec": {
   "display_name": "Python 3 (ipykernel)",
   "language": "python",
   "name": "python3"
  },
  "language_info": {
   "codemirror_mode": {
    "name": "ipython",
    "version": 3
   },
   "file_extension": ".py",
   "mimetype": "text/x-python",
   "name": "python",
   "nbconvert_exporter": "python",
   "pygments_lexer": "ipython3",
   "version": "3.11.7"
  }
 },
 "nbformat": 4,
 "nbformat_minor": 5
}

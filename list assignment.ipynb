{
 "cells": [
  {
   "cell_type": "markdown",
   "id": "07ea03a8-4a54-4315-ad72-1c06fce793b5",
   "metadata": {},
   "source": [
    "# List Assignment "
   ]
  },
  {
   "cell_type": "markdown",
   "id": "05668fb2-b201-4ba1-83d6-c12d8c688c45",
   "metadata": {},
   "source": [
    "### 1. Write a program that accepts a list from user and print the alternate element of list. \r"
   ]
  },
  {
   "cell_type": "code",
   "execution_count": 4,
   "id": "aa532ca0-9219-46d2-a23c-d6332363cd9b",
   "metadata": {},
   "outputs": [
    {
     "name": "stdin",
     "output_type": "stream",
     "text": [
      "Enter a list of elements:  1,2,3,4,5,6,7,89\n"
     ]
    },
    {
     "name": "stdout",
     "output_type": "stream",
     "text": [
      "Alternate elements of the list are:\n",
      "1\n",
      "3\n",
      "5\n",
      "7\n"
     ]
    }
   ],
   "source": [
    "user_input = input(\"Enter a list of elements: \")\n",
    "def print_alternate_elements(lst):\n",
    "    for i in range(0, len(lst), 2):\n",
    "        print(lst[i])\n",
    "user_list = user_input.split(',')\n",
    "print(\"Alternate elements of the list are:\")\n",
    "print_alternate_elements(user_list)"
   ]
  },
  {
   "cell_type": "markdown",
   "id": "26cc9a6d-78f0-4fab-84ec-78344ec5b663",
   "metadata": {},
   "source": [
    "### 2. Write a program that accepts a list from user. Your program should reverse the content of list and \n",
    "display it. Do not us# reverse() method. . "
   ]
  },
  {
   "cell_type": "code",
   "execution_count": 5,
   "id": "8afa561b-7d2f-4df0-9803-99307880dee9",
   "metadata": {},
   "outputs": [
    {
     "name": "stdin",
     "output_type": "stream",
     "text": [
      "Enter a list of elements separated by spaces:  1 2 3 4 5 6 7 8 9\n"
     ]
    },
    {
     "name": "stdout",
     "output_type": "stream",
     "text": [
      "Reversed List: ['9', '8', '7', '6', '5', '4', '3', '2', '1']\n"
     ]
    }
   ],
   "source": [
    "def reverse_list(input_list):\n",
    "    reversed_list = []\n",
    "    for item in range(len(input_list)-1, -1, -1):\n",
    "        reversed_list.append(input_list[item])\n",
    "    return reversed_list\n",
    "user_input = input(\"Enter a list of elements separated by spaces: \")\n",
    "user_list = user_input.split()  \n",
    "reversed_list = reverse_list(user_list)\n",
    "print(\"Reversed List:\", reversed_list)"
   ]
  },
  {
   "cell_type": "markdown",
   "id": "6461e22c-0212-48bd-908c-79e383667b60",
   "metadata": {},
   "source": [
    "###  3. Find and display the largest number of a list without using built-in function max(). Your program \n",
    "should ask the user to input values in list from keyboard. \r"
   ]
  },
  {
   "cell_type": "code",
   "execution_count": 6,
   "id": "60fc34a2-dc45-4ecb-b607-d34d608e1d24",
   "metadata": {},
   "outputs": [
    {
     "name": "stdin",
     "output_type": "stream",
     "text": [
      "Enter a list of numbers separated by spaces:  24 45 67 89 33 44 555 66666 777 8888889 222222 444444 55555555 6666666 \n"
     ]
    },
    {
     "name": "stdout",
     "output_type": "stream",
     "text": [
      "The largest number in the list is: 55555555\n"
     ]
    }
   ],
   "source": [
    "user_input = input(\"Enter a list of numbers separated by spaces: \")\n",
    "def find_largest_number(input_list):\n",
    "    largest = input_list[0] \n",
    "    for num in input_list:\n",
    "        if num > largest:\n",
    "            largest = num\n",
    "    return largest\n",
    "user_list = list(map(int, user_input.split())) \n",
    "largest_number = find_largest_number(user_list)\n",
    "print(\"The largest number in the list is:\", largest_number)"
   ]
  },
  {
   "cell_type": "markdown",
   "id": "6996c124-b413-428c-a35f-a94e648d87a8",
   "metadata": {},
   "source": [
    "### 4. Write a program that rotates the element of a list so that the element at the first index moves to the \n",
    "second index, the element in the second index moves to the third index, etc., and the element in the las \r\n",
    "index moves to the first index. "
   ]
  },
  {
   "cell_type": "code",
   "execution_count": 7,
   "id": "be17ac73-c750-43a3-926b-50440917a1f9",
   "metadata": {},
   "outputs": [
    {
     "name": "stdin",
     "output_type": "stream",
     "text": [
      "Enter a list of elements separated by spaces:  4 5 6 7 89 33 4 55 66 77 8 9999999 \n"
     ]
    },
    {
     "name": "stdout",
     "output_type": "stream",
     "text": [
      "Rotated List: ['5', '6', '7', '89', '33', '4', '55', '66', '77', '8', '9999999', '4']\n"
     ]
    }
   ],
   "source": [
    "def rotate_list(input_list):\n",
    "    if len(input_list) > 0:\n",
    "        rotated_list = input_list[1:] + [input_list[0]]\n",
    "        return rotated_list\n",
    "    else:\n",
    "        return input_list\n",
    "user_input = input(\"Enter a list of elements separated by spaces: \")\n",
    "user_list = user_input.split() \n",
    "rotated_list = rotate_list(user_list)\n",
    "print(\"Rotated List:\", rotated_list)"
   ]
  },
  {
   "cell_type": "markdown",
   "id": "aa7c1fb7-df61-4ac7-a421-4793adfd4100",
   "metadata": {},
   "source": [
    "# 5. Write a program that input a string and ask user to delete a given word from a string. "
   ]
  },
  {
   "cell_type": "code",
   "execution_count": 8,
   "id": "b2ab48d6-8f70-4ae9-a6c9-036d82f339c3",
   "metadata": {},
   "outputs": [
    {
     "name": "stdin",
     "output_type": "stream",
     "text": [
      "Enter a string:  my name is aman khan\n",
      "Enter the word you want to delete:  khan\n"
     ]
    },
    {
     "name": "stdout",
     "output_type": "stream",
     "text": [
      "Updated string: my name is aman\n"
     ]
    }
   ],
   "source": [
    "def delete_word_from_string(input_string, word_to_delete):\n",
    "    words = input_string.split()\n",
    "    updated_words = [word for word in words if word != word_to_delete]\n",
    "    return ' '.join(updated_words)\n",
    "input_string = input(\"Enter a string: \")\n",
    "word_to_delete = input(\"Enter the word you want to delete: \")\n",
    "updated_string = delete_word_from_string(input_string, word_to_delete)\n",
    "print(\"Updated string:\", updated_string)"
   ]
  },
  {
   "cell_type": "markdown",
   "id": "b1c97de5-7d2d-4ec3-bc7c-ab0d86ecc3b1",
   "metadata": {},
   "source": [
    "# 6.Write a program that reads a string from the user containing a date in the form mm/dd/yyyy. It \n",
    "should print the date in the form March 12, 2021. "
   ]
  },
  {
   "cell_type": "code",
   "execution_count": 13,
   "id": "12a2aefd-7974-4621-b579-6c254f2d329f",
   "metadata": {},
   "outputs": [
    {
     "name": "stdin",
     "output_type": "stream",
     "text": [
      "Enter a date in the form mm/dd/yyyy:  03/13/2003\n"
     ]
    },
    {
     "name": "stdout",
     "output_type": "stream",
     "text": [
      "Formatted date: March 13, 2003\n"
     ]
    }
   ],
   "source": [
    "from datetime import datetime\n",
    "def convert_date(input_date):\n",
    "    date_object = datetime.strptime(input_date, \"%m/%d/%Y\")\n",
    "    formatted_date = date_object.strftime(\"%B %d, %Y\")    \n",
    "    return formatted_date\n",
    "input_date = input(\"Enter a date in the form mm/dd/yyyy: \")\n",
    "formatted_date = convert_date(input_date)\n",
    "print(\"Formatted date:\", formatted_date)\n"
   ]
  },
  {
   "cell_type": "markdown",
   "id": "0ffa9957-3676-4180-b84a-52924141b99e",
   "metadata": {},
   "source": [
    "# 7. Write a program with a function that accepts a string from keyboard and create a new string after \n",
    "converting character of each word capitalized. For instance, if the sentence is \"stop and smell the roses. \r\n",
    "the output should be \"Stop And Smell The Roses"
   ]
  },
  {
   "cell_type": "code",
   "execution_count": 16,
   "id": "ceddefaa-fc90-4e53-9213-646eed194823",
   "metadata": {},
   "outputs": [
    {
     "name": "stdin",
     "output_type": "stream",
     "text": [
      "Enter a sentence:  close your eyes and in the nights all we ned one night i dubai\n"
     ]
    },
    {
     "name": "stdout",
     "output_type": "stream",
     "text": [
      "Capitalized sentence: Close Your Eyes And In The Nights All We Ned One Night I Dubai\n"
     ]
    }
   ],
   "source": [
    "def capitalize_words(input_string):\n",
    "    words = input_string.split()\n",
    "    capitalized_words = ' '.join([word.capitalize() for word in words])\n",
    "    \n",
    "    return capitalized_words\n",
    "input_string = input(\"Enter a sentence: \")\n",
    "capitalized_sentence = capitalize_words(input_string)\n",
    "print(\"Capitalized sentence:\", capitalized_sentence)"
   ]
  },
  {
   "cell_type": "markdown",
   "id": "1ed47463-4533-4dff-b247-af35e522ee33",
   "metadata": {},
   "source": [
    "8. Find the sum of each row of matrix of size m x n. For example for the following matrix output will be\r\n",
    "like this \n",
    "2  11  7  12\n",
    "5  2   9  15\n",
    "8  3   10 42:\r\n",
    "Sum of row 1 = 32\r\n",
    "Sum of row 2 = 31\r\n",
    "Sum of row 3 = 63 \r"
   ]
  },
  {
   "cell_type": "code",
   "execution_count": 2,
   "id": "f91cf73b-cbfc-4848-a22f-327ed9377131",
   "metadata": {},
   "outputs": [
    {
     "name": "stdout",
     "output_type": "stream",
     "text": [
      "Sum of row 1 = 32\n",
      "Sum of row 2 = 31\n",
      "Sum of row 3 = 63\n"
     ]
    }
   ],
   "source": [
    "matrix = [\n",
    "    [2, 11, 7, 12],\n",
    "    [5, 2, 9, 15],\n",
    "    [8, 3, 10, 42]]\n",
    "def sum_of_rows(matrix):\n",
    "    for i, row in enumerate(matrix):\n",
    "        row_sum = sum(row)\n",
    "        print(f\"Sum of row {i + 1} = {row_sum}\")\n",
    "sum_of_rows(matrix)\n"
   ]
  },
  {
   "cell_type": "markdown",
   "id": "6953cb0c-d1fd-4ce5-bf79-6c31b6dcb2c2",
   "metadata": {},
   "source": [
    "### 9. Write a program to add two matrices of size n x m. "
   ]
  },
  {
   "cell_type": "code",
   "execution_count": 4,
   "id": "dfcb9cbd-05b5-4f84-a7ef-4bea22e524d9",
   "metadata": {},
   "outputs": [
    {
     "name": "stdin",
     "output_type": "stream",
     "text": [
      "Enter number of rows (n):  2\n",
      "Enter number of columns (m):  3\n"
     ]
    },
    {
     "name": "stdout",
     "output_type": "stream",
     "text": [
      "Enter the elements of the first matrix:\n"
     ]
    },
    {
     "name": "stdin",
     "output_type": "stream",
     "text": [
      " 4 5 6 \n",
      " 4 6 8\n"
     ]
    },
    {
     "name": "stdout",
     "output_type": "stream",
     "text": [
      "Enter the elements of the second matrix:\n"
     ]
    },
    {
     "name": "stdin",
     "output_type": "stream",
     "text": [
      " 3 4 5 \n",
      " 12 34 5\n"
     ]
    },
    {
     "name": "stdout",
     "output_type": "stream",
     "text": [
      "\n",
      "The sum of the two matrices is:\n",
      "7 9 11\n",
      "16 40 13\n"
     ]
    }
   ],
   "source": [
    "n = int(input(\"Enter number of rows (n): \"))\n",
    "m = int(input(\"Enter number of columns (m): \"))\n",
    "print(\"Enter the elements of the first matrix:\")\n",
    "matrix1 = [list(map(int, input().split())) for _ in range(n)]\n",
    "print(\"Enter the elements of the second matrix:\")\n",
    "matrix2 = [list(map(int, input().split())) for _ in range(n)]\n",
    "print(\"\\nThe sum of the two matrices is:\")\n",
    "for i in range(n):\n",
    "    row = [matrix1[i][j] + matrix2[i][j] for j in range(m)]\n",
    "    print(\" \".join(map(str, row)))"
   ]
  },
  {
   "cell_type": "markdown",
   "id": "229841fe-681c-4595-b351-6c3a37f736d5",
   "metadata": {},
   "source": [
    "### 10. Write a program to multiply two matrices "
   ]
  },
  {
   "cell_type": "code",
   "execution_count": 5,
   "id": "33af9c9c-2103-4512-a98b-029a885d4d06",
   "metadata": {},
   "outputs": [
    {
     "name": "stdin",
     "output_type": "stream",
     "text": [
      "Enter number of rows for the first matrix (n):  2\n",
      "Enter number of columns for the first matrix (m):  3\n",
      "Enter number of columns for the second matrix (p):  2\n"
     ]
    },
    {
     "name": "stdout",
     "output_type": "stream",
     "text": [
      "Enter the elements of the first matrix:\n"
     ]
    },
    {
     "name": "stdin",
     "output_type": "stream",
     "text": [
      " 2 4 7\n",
      " 7 8 99\n"
     ]
    },
    {
     "name": "stdout",
     "output_type": "stream",
     "text": [
      "Enter the elements of the second matrix:\n"
     ]
    },
    {
     "name": "stdin",
     "output_type": "stream",
     "text": [
      " 2 4\n",
      " 2 5 \n",
      " 6 9\n"
     ]
    },
    {
     "name": "stdout",
     "output_type": "stream",
     "text": [
      "\n",
      "The product of the two matrices is:\n",
      "54 91\n",
      "624 959\n"
     ]
    }
   ],
   "source": [
    "def multiply_matrices(matrix1, matrix2, n, m, p):\n",
    "    result = [[0 for _ in range(p)] for _ in range(n)]\n",
    "    for i in range(n):\n",
    "        for j in range(p):\n",
    "            for k in range(m):\n",
    "                result[i][j] += matrix1[i][k] * matrix2[k][j]\n",
    "    \n",
    "    return result\n",
    "n = int(input(\"Enter number of rows for the first matrix (n): \"))\n",
    "m = int(input(\"Enter number of columns for the first matrix (m): \"))\n",
    "p = int(input(\"Enter number of columns for the second matrix (p): \"))\n",
    "print(\"Enter the elements of the first matrix:\")\n",
    "matrix1 = [list(map(int, input().split())) for _ in range(n)]\n",
    "print(\"Enter the elements of the second matrix:\")\n",
    "matrix2 = [list(map(int, input().split())) for _ in range(m)]\n",
    "result = multiply_matrices(matrix1, matrix2, n, m, p)\n",
    "print(\"\\nThe product of the two matrices is:\")\n",
    "for row in result:\n",
    "    print(\" \".join(map(str, row)))"
   ]
  },
  {
   "cell_type": "code",
   "execution_count": null,
   "id": "f7bbd7b7-86f7-452b-8009-233ccc040ac9",
   "metadata": {},
   "outputs": [],
   "source": []
  }
 ],
 "metadata": {
  "kernelspec": {
   "display_name": "Python 3 (ipykernel)",
   "language": "python",
   "name": "python3"
  },
  "language_info": {
   "codemirror_mode": {
    "name": "ipython",
    "version": 3
   },
   "file_extension": ".py",
   "mimetype": "text/x-python",
   "name": "python",
   "nbconvert_exporter": "python",
   "pygments_lexer": "ipython3",
   "version": "3.11.7"
  }
 },
 "nbformat": 4,
 "nbformat_minor": 5
}

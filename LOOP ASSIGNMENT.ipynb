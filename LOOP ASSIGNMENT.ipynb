{
 "cells": [
  {
   "cell_type": "markdown",
   "id": "020a21ba-d424-4375-ae5c-431824322b31",
   "metadata": {},
   "source": [
    "# Looping Structures "
   ]
  },
  {
   "cell_type": "markdown",
   "id": "bce76798-bf00-40ba-936f-8e2342135112",
   "metadata": {},
   "source": [
    "### 1. Write a Python program to print the numbers from 1 to 10 using a for loop. "
   ]
  },
  {
   "cell_type": "code",
   "execution_count": 5,
   "id": "e5568e00-c33e-42eb-b188-bbe4ec0fdf32",
   "metadata": {},
   "outputs": [
    {
     "name": "stdout",
     "output_type": "stream",
     "text": [
      "1\n",
      "2\n",
      "3\n",
      "4\n",
      "5\n",
      "6\n",
      "7\n",
      "8\n",
      "9\n",
      "10\n"
     ]
    }
   ],
   "source": [
    "for a in range(1, 11):\n",
    "    print(a)"
   ]
  },
  {
   "cell_type": "markdown",
   "id": "d314e922-f1cf-4c37-ac72-349e3d12a735",
   "metadata": {},
   "source": [
    "### 2. Write a Python program to print the numbers from 20 to 1 using a while loop."
   ]
  },
  {
   "cell_type": "code",
   "execution_count": 7,
   "id": "279271b2-33cf-4e93-9a63-cacdfafb8fbb",
   "metadata": {},
   "outputs": [
    {
     "name": "stdout",
     "output_type": "stream",
     "text": [
      "20\n",
      "19\n",
      "18\n",
      "17\n",
      "16\n",
      "15\n",
      "14\n",
      "13\n",
      "12\n",
      "11\n",
      "10\n",
      "9\n",
      "8\n",
      "7\n",
      "6\n",
      "5\n",
      "4\n",
      "3\n",
      "2\n",
      "1\n"
     ]
    }
   ],
   "source": [
    "i = 20\n",
    "while i >= 1:\n",
    "    print(i)\n",
    "    i -= 1  "
   ]
  },
  {
   "cell_type": "markdown",
   "id": "da71056e-90e7-4f51-96a8-deaf64f3888c",
   "metadata": {},
   "source": [
    "### 3. Write a program to print even numbers from 1 to 10. "
   ]
  },
  {
   "cell_type": "code",
   "execution_count": 11,
   "id": "4887582c-2ca5-497e-92c3-4b27d5a04e9e",
   "metadata": {},
   "outputs": [
    {
     "name": "stdout",
     "output_type": "stream",
     "text": [
      "2\n",
      "4\n",
      "6\n",
      "8\n",
      "10\n",
      "12\n",
      "14\n",
      "16\n",
      "18\n"
     ]
    }
   ],
   "source": [
    "for a in range(1, 20):\n",
    "    if a % 2 == 0: \n",
    "        print(a)"
   ]
  },
  {
   "cell_type": "markdown",
   "id": "1f6aded7-f5ac-4373-a665-140b01f05bad",
   "metadata": {},
   "source": [
    "### 4. Write a program that prompts the user to enter a number n and prints all the \n",
    "numbers from 1 to n."
   ]
  },
  {
   "cell_type": "code",
   "execution_count": 16,
   "id": "8b09f10b-fdd1-4f33-bca7-a4d83281408a",
   "metadata": {},
   "outputs": [
    {
     "name": "stdin",
     "output_type": "stream",
     "text": [
      "Enter a number:  10\n"
     ]
    },
    {
     "name": "stdout",
     "output_type": "stream",
     "text": [
      "1\n",
      "2\n",
      "3\n",
      "4\n",
      "5\n",
      "6\n",
      "7\n",
      "8\n",
      "9\n",
      "10\n"
     ]
    }
   ],
   "source": [
    "n = int(input(\"Enter a number: \")) \n",
    "for i in range(1, n + 1):\n",
    "    print(i)"
   ]
  },
  {
   "cell_type": "markdown",
   "id": "664a6dc8-8ff7-46a0-8fdc-11a5429a6d2b",
   "metadata": {},
   "source": [
    "### 5. Write a program that prompts the user to enter a number n, and then prints all the\r\n",
    "odd numbers between 1 and n. "
   ]
  },
  {
   "cell_type": "code",
   "execution_count": 19,
   "id": "22ad8687-76bf-4b7c-a34b-49c770f78e48",
   "metadata": {},
   "outputs": [
    {
     "name": "stdin",
     "output_type": "stream",
     "text": [
      "Enter a number: 20\n"
     ]
    },
    {
     "name": "stdout",
     "output_type": "stream",
     "text": [
      "1\n",
      "3\n",
      "5\n",
      "7\n",
      "9\n",
      "11\n",
      "13\n",
      "15\n",
      "17\n",
      "19\n"
     ]
    }
   ],
   "source": [
    "n = int(input(\"Enter a number:\"))\n",
    "for a in range(1, n + 1):\n",
    "    if a % 2 != 0:\n",
    "        print(a)"
   ]
  },
  {
   "cell_type": "markdown",
   "id": "08748e19-569b-44fb-b5df-4935d38ebb7f",
   "metadata": {},
   "source": [
    "### 6. Write a program that prints 'Happy Birthday!' five times on screen. "
   ]
  },
  {
   "cell_type": "code",
   "execution_count": 29,
   "id": "fa33ab4c-361a-4bcd-a15c-1fc6d202bc88",
   "metadata": {},
   "outputs": [
    {
     "name": "stdout",
     "output_type": "stream",
     "text": [
      "Happy birthday:\n",
      "Happy birthday:\n",
      "Happy birthday:\n",
      "Happy birthday:\n",
      "Happy birthday:\n"
     ]
    }
   ],
   "source": [
    "for a in range(5):\n",
    "    print(\"Happy birthday:\")"
   ]
  },
  {
   "cell_type": "markdown",
   "id": "b0abc307-9251-4aab-a901-fcc74f0d7c19",
   "metadata": {},
   "source": [
    "###  7. Write a program that takes a number n as input from the user and generates the first\r\n",
    "n terms of the series formed by squaring the natural numbers. sample output\r\n",
    "Enter a number: 6\r\n",
    "The first 6 terms of the series are:\r\n",
    "1 4 9 16 25 36 \r"
   ]
  },
  {
   "cell_type": "code",
   "execution_count": 33,
   "id": "17ca537c-52e5-4894-bcb3-6ff5f4dbe308",
   "metadata": {},
   "outputs": [
    {
     "name": "stdin",
     "output_type": "stream",
     "text": [
      "Enter a number:  8\n"
     ]
    },
    {
     "name": "stdout",
     "output_type": "stream",
     "text": [
      "The first 8 terms of the series are:\n",
      "1 4 9 16 25 36 49 64 "
     ]
    }
   ],
   "source": [
    "n = int(input(\"Enter a number: \"))\n",
    "print(f\"The first {n} terms of the series are:\")\n",
    "for i in range(1, n + 1):\n",
    "    print(i**2, end=\" \")"
   ]
  },
  {
   "cell_type": "markdown",
   "id": "f26b7617-dbcb-4918-ab89-bc3f570c45ab",
   "metadata": {},
   "source": [
    "### 8. Write a program that prompts the user to input a number and prints its multiplication\r\n",
    "table. "
   ]
  },
  {
   "cell_type": "code",
   "execution_count": 36,
   "id": "65a7d925-5839-41ec-a4b0-844fb4c51a54",
   "metadata": {},
   "outputs": [
    {
     "name": "stdin",
     "output_type": "stream",
     "text": [
      "Enter a number:  9\n"
     ]
    },
    {
     "name": "stdout",
     "output_type": "stream",
     "text": [
      "Multiplication table for 9 is:\n",
      "9 x 1 = 9\n",
      "9 x 2 = 18\n",
      "9 x 3 = 27\n",
      "9 x 4 = 36\n",
      "9 x 5 = 45\n",
      "9 x 6 = 54\n",
      "9 x 7 = 63\n",
      "9 x 8 = 72\n",
      "9 x 9 = 81\n",
      "9 x 10 = 90\n"
     ]
    }
   ],
   "source": [
    "number = int(input(\"Enter a number: \"))\n",
    "print(f\"Multiplication table for {number} is:\")\n",
    "for i in range(1, 11):\n",
    "    print(f\"{number} x {i} = {number * i}\")"
   ]
  },
  {
   "cell_type": "markdown",
   "id": "c4fe732a-ecbf-4c5e-8475-b5f7e50c6ee7",
   "metadata": {},
   "source": [
    "### 9. Write a Python program to print the first 8 terms of an arithmetic progression starting\r\n",
    "with 3 and having a common difference of 4.\r\n",
    "The program should output the following sequence:\r\n",
    "3 7 11 15 19 23 27 31 "
   ]
  },
  {
   "cell_type": "code",
   "execution_count": 37,
   "id": "ada417d8-7c4b-44e3-9f24-326b07b1a1c5",
   "metadata": {},
   "outputs": [
    {
     "name": "stdout",
     "output_type": "stream",
     "text": [
      "The first 8 terms of the arithmetic progression are:\n",
      "3 7 11 15 19 23 27 31 "
     ]
    }
   ],
   "source": [
    "first_term = 3\n",
    "common_difference = 4\n",
    "print(\"The first 8 terms of the arithmetic progression are:\")\n",
    "for i in range(8):\n",
    "    term = first_term + i * common_difference\n",
    "    print(term, end=\" \")"
   ]
  },
  {
   "cell_type": "markdown",
   "id": "8a265581-25f8-4736-9e00-3c5d5c7c79de",
   "metadata": {},
   "source": [
    "### 10. Write a Python program to print the first 6 terms of a geometric sequence starting\r\n",
    "with 2 and having a common ratio of 3.\r\n",
    "The program should output the following sequence:\r\n",
    "2 6 18 54 162 486 \r"
   ]
  },
  {
   "cell_type": "code",
   "execution_count": 39,
   "id": "1d3c3f0f-4101-4d2b-82db-e9c063b39a7e",
   "metadata": {},
   "outputs": [
    {
     "name": "stdout",
     "output_type": "stream",
     "text": [
      "The first 6 terms of the geometric sequence are:\n",
      "2 6 18 54 162 486 "
     ]
    }
   ],
   "source": [
    "first_term = 2\n",
    "common_ratio = 3\n",
    "print(\"The first 6 terms of the geometric sequence are:\")\n",
    "for i in range(6):\n",
    "    term = first_term * (common_ratio ** i)\n",
    "    print(term, end=\" \")"
   ]
  },
  {
   "cell_type": "markdown",
   "id": "62b371c0-932d-4fd3-9a8e-d0de0322bd29",
   "metadata": {},
   "source": [
    "### 11. Write a program that asks the user for a positive integer value. The program should\r\n",
    "calculate the sum of all the integers from 1 up to the number entered. For example, if\r\n",
    "the user enters 20, the loop will find the sum of 1, 2, 3, 4, ... 20. \r"
   ]
  },
  {
   "cell_type": "code",
   "execution_count": 41,
   "id": "c7d1e16c-2433-461c-a1ca-84ae585b70c0",
   "metadata": {},
   "outputs": [
    {
     "name": "stdin",
     "output_type": "stream",
     "text": [
      "Enter a positive integer:  100\n"
     ]
    },
    {
     "name": "stdout",
     "output_type": "stream",
     "text": [
      "The sum of all integers from 1 to 100 is: 5050\n"
     ]
    }
   ],
   "source": [
    "number = int(input(\"Enter a positive integer: \"))\n",
    "if number > 0:\n",
    "    total_sum = sum(range(1, number + 1))\n",
    "    print(f\"The sum of all integers from 1 to {number} is: {total_sum}\")\n",
    "else:\n",
    "    print(\"Please enter a positive integer.\")"
   ]
  },
  {
   "cell_type": "markdown",
   "id": "0d1f0ce4-89e1-4c72-b186-619d9e0be605",
   "metadata": {},
   "source": [
    "### 12. write a program that takes a positive integer N as input and calculates the sum of\r\n",
    "the reciprocals of all numbers from 1 up to N. The program should display the final sum.\n",
    "Output of the program should be like:, \r\n",
    "Enter a positive integer: , 5\r\n",
    "The sum of reciprocals from 1 to 5 is: 2., 28  "
   ]
  },
  {
   "cell_type": "code",
   "execution_count": 42,
   "id": "9de02578-5fa8-4247-a9f5-3eb8d1e34d92",
   "metadata": {},
   "outputs": [
    {
     "name": "stdin",
     "output_type": "stream",
     "text": [
      "Enter a positive integer:  10\n"
     ]
    },
    {
     "name": "stdout",
     "output_type": "stream",
     "text": [
      "The sum of reciprocals from 1 to 10 is: 2.93\n"
     ]
    }
   ],
   "source": [
    "N = int(input(\"Enter a positive integer: \"))\n",
    "if N > 0:\n",
    "    reciprocal_sum = 0.0\n",
    "    for i in range(1, N + 1):\n",
    "        reciprocal_sum += 1 / i\n",
    "    print(f\"The sum of reciprocals from 1 to {N} is: {reciprocal_sum:.2f}\")\n",
    "else:\n",
    "    print(\"Please enter a positive integer.\")\n"
   ]
  },
  {
   "cell_type": "markdown",
   "id": "81b2e7a5-1268-4987-938d-ab12429f3bbe",
   "metadata": {},
   "source": [
    "13. Write a program that prompts the user to enter a number and repeats this process 5\r\n",
    "times. The program should accumulate the numbers entered and then display the final\r\n",
    "running total.\r\n",
    "Sample Output:\r\n",
    "Enter a number: 10\r\n",
    "Enter a number: 15\r\n",
    "Enter a number: 35\r\n",
    "Enter a number: 40\r\n",
    "Enter a number: 50\r\n",
    "The final running total is: 150l is: 150"
   ]
  },
  {
   "cell_type": "code",
   "execution_count": 43,
   "id": "8b0bae31-3aaf-4e43-86bd-4e37a2880c8c",
   "metadata": {},
   "outputs": [
    {
     "name": "stdin",
     "output_type": "stream",
     "text": [
      "Enter a number:  40\n",
      "Enter a number:  50\n",
      "Enter a number:  30\n",
      "Enter a number:  20\n",
      "Enter a number:  10\n"
     ]
    },
    {
     "name": "stdout",
     "output_type": "stream",
     "text": [
      "The final running total is: 150.0\n"
     ]
    }
   ],
   "source": [
    "total = 0\n",
    "for i in range(5):\n",
    "    number = float(input(\"Enter a number: \"))\n",
    "    total += number\n",
    "print(f\"The final running total is: {total}\")"
   ]
  },
  {
   "cell_type": "markdown",
   "id": "9e8b402f-5578-47a4-b9e5-8651e420e255",
   "metadata": {},
   "source": [
    "### 14. Write a program that prompts the user to enter a positive integer and calculates its\r\n",
    "factorial. The factorial of a positive integer 'n' is denoted as 'n!' and is calculated by\r\n",
    "multiplying all the integers from 1 to 'n' together. For example, the factorial of 5\r\n",
    "(denoted as 5!) is calculated as 1 x 2 x 3 x 4 x 5.\r\n",
    "The program should display the factorial value if the input is a positive number, or\r\n",
    "display a message stating that the factorial does not exist for negative numbers.\r\n",
    "Additionally, for an input of zero, the program should output that the factorial of 0 is 1"
   ]
  },
  {
   "cell_type": "code",
   "execution_count": 47,
   "id": "f6ac0c22-d87d-4fc6-9876-1bfd147d4670",
   "metadata": {},
   "outputs": [
    {
     "name": "stdin",
     "output_type": "stream",
     "text": [
      "Enter a positive integer:  5\n"
     ]
    },
    {
     "name": "stdout",
     "output_type": "stream",
     "text": [
      "The factorial of 5 is: 120\n"
     ]
    }
   ],
   "source": [
    "def calculate_factorial(n):\n",
    "    if n == 0:\n",
    "        return 1\n",
    "    elif n > 0:\n",
    "        factorial = 1\n",
    "        for i in range(1, n + 1):\n",
    "            factorial *= i\n",
    "        return factorial\n",
    "    else:\n",
    "        return None\n",
    "try:\n",
    "    number = int(input(\"Enter a positive integer: \"))\n",
    "    result = calculate_factorial(number)\n",
    "    \n",
    "    if result is None:\n",
    "        print(\"Factorial does not exist for negative numbers.\")\n",
    "    else:\n",
    "        print(f\"The factorial of {number} is: {result}\")\n",
    "        \n",
    "except ValueError:\n",
    "    print(\"Please enter a valid integer.\")\n"
   ]
  },
  {
   "cell_type": "markdown",
   "id": "9e7a5961-f0c5-4788-a7d1-af5f60ca08a6",
   "metadata": {},
   "source": [
    "### 15. Write a Python program that prompts the user to enter a base number and an\r\n",
    "exponent, and then calculates the power of the base to the exponent. The program\r\n",
    "should not use the exponentiation operator (**) or the math.pow() function. The\r\n",
    "program should handle both positive and negative exponents. "
   ]
  },
  {
   "cell_type": "code",
   "execution_count": 46,
   "id": "9171af7c-127e-401c-a194-e7ae78ed6238",
   "metadata": {},
   "outputs": [
    {
     "name": "stdin",
     "output_type": "stream",
     "text": [
      "Enter the base number:  5\n",
      "Enter the exponent:  23\n"
     ]
    },
    {
     "name": "stdout",
     "output_type": "stream",
     "text": [
      "The result of 5.0 raised to the power of 23 is: 1.1920928955078124e+16\n"
     ]
    }
   ],
   "source": [
    "def calculate_power(base, exponent):\n",
    "    if exponent >= 0:\n",
    "        result = 1\n",
    "        for _ in range(exponent):\n",
    "            result *= base\n",
    "        return result\n",
    "    else:\n",
    "        result = 1\n",
    "        for _ in range(-exponent):\n",
    "            result *= base\n",
    "        return 1 / result\n",
    "try:\n",
    "    base = float(input(\"Enter the base number: \"))\n",
    "    exponent = int(input(\"Enter the exponent: \"))\n",
    "    result = calculate_power(base, exponent)\n",
    "    print(f\"The result of {base} raised to the power of {exponent} is: {result}\")\n",
    "    \n",
    "except ValueError:\n",
    "    print(\"Please enter valid numbers for the base and exponent.\")\n"
   ]
  },
  {
   "cell_type": "code",
   "execution_count": null,
   "id": "7d9882d9-624e-4cc2-b3a6-e541dadb381d",
   "metadata": {},
   "outputs": [],
   "source": []
  }
 ],
 "metadata": {
  "kernelspec": {
   "display_name": "Python 3 (ipykernel)",
   "language": "python",
   "name": "python3"
  },
  "language_info": {
   "codemirror_mode": {
    "name": "ipython",
    "version": 3
   },
   "file_extension": ".py",
   "mimetype": "text/x-python",
   "name": "python",
   "nbconvert_exporter": "python",
   "pygments_lexer": "ipython3",
   "version": "3.11.7"
  }
 },
 "nbformat": 4,
 "nbformat_minor": 5
}

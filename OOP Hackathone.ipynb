{
 "cells": [
  {
   "cell_type": "markdown",
   "id": "1eb0de36-bee4-4b61-bd02-6a89214a25b8",
   "metadata": {},
   "source": [
    "#                             Banking System Project -OOP\n",
    "#                              Author: [aman khan]\n",
    "#                              Date: [09-jan-2025]"
   ]
  },
  {
   "cell_type": "code",
   "execution_count": 13,
   "id": "063792f8-fdb1-4f7e-bbd9-927ec7690413",
   "metadata": {},
   "outputs": [],
   "source": [
    "class bank_account :\n",
    "    def __init__(self, account_name, account_holder):\n",
    "        self.account_name = account_name\n",
    "        self.acount_holder = account_holder\n",
    "        self.balance = 0.0\n",
    "        self.transaction = []\n",
    "def deposit(self,amount):\n",
    "    if amount > 0:\n",
    "        self.balance += amount\n",
    "        self.add_transaction(f\"Deposited:${amount}\")  \n",
    "        print(f\"${amount} deposited successfully\")\n",
    "    else:\n",
    "        print(\"Deposited amount must be positive\")\n",
    "def withdraw(self, amount):\n",
    "    if amount <= self.balance:\n",
    "        self.balanced -= amount\n",
    "        self.add_transaction(f\"withdrew ${amount}\")\n",
    "        print(f\"${amount} withdraw successfully\")\n",
    "    else:\n",
    "        print(\"insuficient balance\")\n",
    "def check_balance(self):\n",
    "    return self.balance\n",
    "def add_transacion(self,balance):\n",
    "    self.transaction.append(description)\n",
    "def print_statement(self):\n",
    "    print(f\"transaction statement for {self.account_holder}\")\n",
    "    for transaction in self.transaction:\n",
    "        print(f\"-{transaction}\")"
   ]
  },
  {
   "cell_type": "code",
   "execution_count": 20,
   "id": "8341a165-74ab-4673-a5c4-2ad613492e14",
   "metadata": {},
   "outputs": [],
   "source": [
    "class bank:\n",
    "    def __init__(self):\n",
    "        self.account = {}\n",
    "        self.next_account_number = 1\n",
    "def open_account(self, account_holder):\n",
    "    account_number = self.next_account_number\n",
    "    self.account[account_number] = bankaccount(account_number,account_holder)\n",
    "    self.next_account_number += 1\n",
    "    print(f\"account created successfully.account_Number:{account_number}\")\n",
    "def get_account(self,account_number):\n",
    "    return\n",
    "    self.account.get(account_number,none)\n",
    "def transfer(sender_account_number,reciever_account_number,amount):\n",
    "    sender = self.get_account(sender_account_number)\n",
    "    reciever = self.get_reciever(reciever_account_number)\n",
    "    if sender and reciever:\n",
    "        if sender.balance >= amount:\n",
    "            sender.withdraw(amount)\n",
    "            reciever.deposit(amount)\n",
    "            print(f\"amount transfer from{sender_account_number} to {reciever_account_number}\")\n",
    "        else:\n",
    "            print(\"insuficient balance in sender account\")\n",
    "    else:\n",
    "        print(\"invalid account number\")\n",
    "def admin_checj_total_deposit(self):\n",
    "    total = sum(account.balance for account in self.account.values())\n",
    "    print(f\" total deposite in bank #{total}:\")\n",
    "def admin_chech_total_account(Self):\n",
    "    print(f\"total numbers of account:{len(self.account)}\")"
   ]
  },
  {
   "cell_type": "code",
   "execution_count": null,
   "id": "40d00760-e3e0-4913-abaa-9b20e72209f4",
   "metadata": {},
   "outputs": [],
   "source": []
  }
 ],
 "metadata": {
  "kernelspec": {
   "display_name": "Python 3 (ipykernel)",
   "language": "python",
   "name": "python3"
  },
  "language_info": {
   "codemirror_mode": {
    "name": "ipython",
    "version": 3
   },
   "file_extension": ".py",
   "mimetype": "text/x-python",
   "name": "python",
   "nbconvert_exporter": "python",
   "pygments_lexer": "ipython3",
   "version": "3.11.7"
  }
 },
 "nbformat": 4,
 "nbformat_minor": 5
}

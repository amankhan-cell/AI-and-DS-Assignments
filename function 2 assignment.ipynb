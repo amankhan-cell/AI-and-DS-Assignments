{
 "cells": [
  {
   "cell_type": "markdown",
   "id": "5e2453c9-e2a6-4769-8a1d-39b5015a0a22",
   "metadata": {},
   "source": [
    "# Task1:\r\n",
    "You need to write a function in python that return all such numbers which are\r\n",
    "divisible by 7 but are not a multiple of 5, between 2000 and 3200 (both included).\r\n",
    "Return the obtained numbers in a comma-separated sequence on a single line. \r"
   ]
  },
  {
   "cell_type": "code",
   "execution_count": 4,
   "id": "53261faf-1002-4584-9e19-9fcdb628d963",
   "metadata": {},
   "outputs": [
    {
     "name": "stdout",
     "output_type": "stream",
     "text": [
      "2002,2009,2016,2023,2037,2044,2051,2058,2072,2079,2086,2093,2107,2114,2121,2128,2142,2149,2156,2163,2177,2184,2191,2198,2212,2219,2226,2233,2247,2254,2261,2268,2282,2289,2296,2303,2317,2324,2331,2338,2352,2359,2366,2373,2387,2394,2401,2408,2422,2429,2436,2443,2457,2464,2471,2478,2492,2499,2506,2513,2527,2534,2541,2548,2562,2569,2576,2583,2597,2604,2611,2618,2632,2639,2646,2653,2667,2674,2681,2688,2702,2709,2716,2723,2737,2744,2751,2758,2772,2779,2786,2793,2807,2814,2821,2828,2842,2849,2856,2863,2877,2884,2891,2898,2912,2919,2926,2933,2947,2954,2961,2968,2982,2989,2996,3003,3017,3024,3031,3038,3052,3059,3066,3073,3087,3094,3101,3108,3122,3129,3136,3143,3157,3164,3171,3178,3192,3199\n"
     ]
    }
   ],
   "source": [
    "def find_numbers():\n",
    "    \"\"\"\n",
    "    Returns all numbers between 2000 and 3200 (inclusive) that are divisible by 7\n",
    "    but not a multiple of 5, as a comma-separated sequence.\n",
    "    \"\"\"\n",
    "    numbers = [str(num) for num in range(2000, 3201) if num % 7 == 0 and num % 5 != 0]\n",
    "    \n",
    "    return ','.join(numbers)\n",
    "result = find_numbers()\n",
    "print(result)"
   ]
  },
  {
   "cell_type": "markdown",
   "id": "12e82057-2fb3-4212-a69d-5431d6c8f015",
   "metadata": {},
   "source": [
    "# Task2:\r\n",
    "You need code a function that calculates and returns the value according to the\r\n",
    "given formula:\r\n",
    "P = Square root of [(2 * A * B)/C]\r\n",
    "Following are the fixed values of A and B:\r\n",
    "A is 50. B is 30.\r\n",
    "The values of the literal C should be taken as console input to your program in a\r\n",
    "comma-separated sequence.\r\n",
    "Example\r\n",
    "Let us assume the following comma separated input sequence is given to the\r\n",
    "program:\r\n",
    "100,150,180\r\n",
    "The output of the program should be:\r\n",
    "18,22,24 \r"
   ]
  },
  {
   "cell_type": "code",
   "execution_count": 5,
   "id": "06abf15f-9d0c-4b7d-b97e-8d3d044967b0",
   "metadata": {},
   "outputs": [
    {
     "name": "stdin",
     "output_type": "stream",
     "text": [
      "Enter comma-separated values for C:  24,30\n"
     ]
    },
    {
     "name": "stdout",
     "output_type": "stream",
     "text": [
      "11,10\n"
     ]
    }
   ],
   "source": [
    "import math\n",
    "\n",
    "def calculate_values(c_values):\n",
    "    \"\"\"\n",
    "    Calculates and returns the values of P according to the formula:\n",
    "    P = Square root of [(2 * A * B) / C]\n",
    "    \n",
    "    Args:\n",
    "    c_values (list of int): A list of values for C (comma-separated input).\n",
    "    \n",
    "    Returns:\n",
    "    str: A comma-separated string of calculated values for P.\n",
    "    \"\"\"\n",
    "    A = 50\n",
    "    B = 30\n",
    "    results = []\n",
    "    \n",
    "    for C in c_values:\n",
    "        P = math.sqrt((2 * A * B) / C)\n",
    "        results.append(int(P)) \n",
    "    \n",
    "    return \",\".join(map(str, results))\n",
    "input_values = input(\"Enter comma-separated values for C: \").split(\",\")\n",
    "c_values = list(map(int, input_values))\n",
    "output = calculate_values(c_values)\n",
    "print(output)"
   ]
  },
  {
   "cell_type": "markdown",
   "id": "81d16d3d-1793-4592-aae4-8693e0a294d2",
   "metadata": {},
   "source": [
    "# Task3:\r\n",
    "You need to write a function that takes a comma separated sequence of words as\r\n",
    "input and prints the words in a comma-separated sequence after sorting them\r\n",
    "alphabetically.\r\n",
    "Suppose the following input is supplied to the program:\r\n",
    "without,hello,bag,world\r\n",
    "Then, the output should be:\r\n",
    "bag,hello,without,world \r"
   ]
  },
  {
   "cell_type": "code",
   "execution_count": 6,
   "id": "7541d5ae-1ccf-4daf-b0aa-6880088d5404",
   "metadata": {},
   "outputs": [
    {
     "name": "stdin",
     "output_type": "stream",
     "text": [
      "Enter a comma-separated sequence of words:  new ,know,men\n"
     ]
    },
    {
     "name": "stdout",
     "output_type": "stream",
     "text": [
      "know,men,new \n"
     ]
    }
   ],
   "source": [
    "def sort_words(input_string):\n",
    "    \"\"\"\n",
    "    Takes a comma-separated sequence of words and returns them sorted alphabetically.\n",
    "    \n",
    "    Args:\n",
    "    input_string (str): Comma-separated words.\n",
    "    \n",
    "    Returns:\n",
    "    str: Alphabetically sorted words in a comma-separated sequence.\n",
    "    \"\"\"\n",
    "    words = input_string.split(\",\")\n",
    "    sorted_words = sorted(words)\n",
    "    return \",\".join(sorted_words)\n",
    "input_sequence = input(\"Enter a comma-separated sequence of words: \")\n",
    "output = sort_words(input_sequence)\n",
    "print(output)"
   ]
  },
  {
   "cell_type": "markdown",
   "id": "4437a431-be0f-4c01-b0f0-20f084e11d15",
   "metadata": {},
   "source": [
    "# Task4:\r\n",
    "You need to write a program that takes sequence of lines as input and prints the\r\n",
    "lines after making all characters in the sentence capitalized.\r\n",
    "Suppose the following input is supplied to the program:\r\n",
    "Hello world\r\n",
    "Practice makes perfect\r\n",
    "Then, the output shou\n",
    "HELLO WORLD\r\n",
    "PRACTICE MAKES PERFECT ld be:"
   ]
  },
  {
   "cell_type": "code",
   "execution_count": 7,
   "id": "87aa257a-33ea-4889-8c1c-1767ba635886",
   "metadata": {},
   "outputs": [
    {
     "name": "stdout",
     "output_type": "stream",
     "text": [
      "Enter lines of text (press Enter twice to stop):\n"
     ]
    },
    {
     "name": "stdin",
     "output_type": "stream",
     "text": [
      " my home town is karachi\n",
      " ,y home town is not islamabad\n",
      " my name is desh\n",
      " \n"
     ]
    },
    {
     "name": "stdout",
     "output_type": "stream",
     "text": [
      "MY HOME TOWN IS KARACHI\n",
      ",Y HOME TOWN IS NOT ISLAMABAD\n",
      "MY NAME IS DESH\n"
     ]
    }
   ],
   "source": [
    "def capitalize_lines():\n",
    "    \"\"\"\n",
    "    Reads multiple lines of input and prints each line with all characters capitalized.\n",
    "    \"\"\"\n",
    "    print(\"Enter lines of text (press Enter twice to stop):\")\n",
    "    lines = []\n",
    "    while True:\n",
    "        line = input()\n",
    "        if not line: \n",
    "            break\n",
    "        lines.append(line.upper())\n",
    "    \n",
    "    for capitalized_line in lines:\n",
    "        print(capitalized_line)\n",
    "capitalize_lines()"
   ]
  },
  {
   "cell_type": "markdown",
   "id": "0a2e71b9-4e17-4761-a9e3-d290e0d28c03",
   "metadata": {},
   "source": [
    "# Task5:\n",
    "You need to write a function that counts the number of vowels in a given\n",
    "sentence as input from console.\n",
    "Suppose the following input is supplied to the program:\n",
    "Hello world\n",
    "Practice makes perfect\n",
    "Then, the output should be:\n",
    "a appeared 2 times\n",
    "e appeared 5 times\n",
    "i appeared 1 time\n",
    "o appeared 2 times\n",
    "u appeared 0 time\n",
    "PRACTICE MAKES PERFECT "
   ]
  },
  {
   "cell_type": "code",
   "execution_count": 8,
   "id": "5737cec1-2e1d-4517-8a31-3ce6f4944ca8",
   "metadata": {},
   "outputs": [
    {
     "name": "stdin",
     "output_type": "stream",
     "text": [
      "Enter a sentence:   i love moon\n"
     ]
    },
    {
     "name": "stdout",
     "output_type": "stream",
     "text": [
      "a appeared 0 times\n",
      "e appeared 1 time\n",
      "i appeared 1 time\n",
      "o appeared 3 times\n",
      "u appeared 0 times\n"
     ]
    }
   ],
   "source": [
    "def count_vowels(sentence):\n",
    "    \"\"\"\n",
    "    Counts the number of each vowel in the given sentence.\n",
    "    \n",
    "    Args:\n",
    "    sentence (str): Input sentence.\n",
    "    \n",
    "    Returns:\n",
    "    None\n",
    "    \"\"\"\n",
    "    vowels = \"aeiou\"\n",
    "    vowel_count = {vowel: 0 for vowel in vowels}\n",
    "    for char in sentence.lower():  \n",
    "        if char in vowel_count:\n",
    "            vowel_count[char] += 1\n",
    "    for vowel, count in vowel_count.items():\n",
    "        print(f\"{vowel} appeared {count} time{'s' if count != 1 else ''}\")\n",
    "input_sentence = input(\"Enter a sentence: \")\n",
    "count_vowels(input_sentence)"
   ]
  },
  {
   "cell_type": "markdown",
   "id": "fa74e694-db2e-4b3f-85a4-0cfd82c7f4ed",
   "metadata": {},
   "source": [
    "# Task6:\n",
    "You need write a function that traces and makes a list of all such numbers\n",
    "from1000 to 3000 in which all the digits are even numbers. \n"
   ]
  },
  {
   "cell_type": "code",
   "execution_count": 9,
   "id": "7f8d0de1-a8c6-4432-9274-f427400e96ad",
   "metadata": {},
   "outputs": [
    {
     "name": "stdout",
     "output_type": "stream",
     "text": [
      "[2000, 2002, 2004, 2006, 2008, 2020, 2022, 2024, 2026, 2028, 2040, 2042, 2044, 2046, 2048, 2060, 2062, 2064, 2066, 2068, 2080, 2082, 2084, 2086, 2088, 2200, 2202, 2204, 2206, 2208, 2220, 2222, 2224, 2226, 2228, 2240, 2242, 2244, 2246, 2248, 2260, 2262, 2264, 2266, 2268, 2280, 2282, 2284, 2286, 2288, 2400, 2402, 2404, 2406, 2408, 2420, 2422, 2424, 2426, 2428, 2440, 2442, 2444, 2446, 2448, 2460, 2462, 2464, 2466, 2468, 2480, 2482, 2484, 2486, 2488, 2600, 2602, 2604, 2606, 2608, 2620, 2622, 2624, 2626, 2628, 2640, 2642, 2644, 2646, 2648, 2660, 2662, 2664, 2666, 2668, 2680, 2682, 2684, 2686, 2688, 2800, 2802, 2804, 2806, 2808, 2820, 2822, 2824, 2826, 2828, 2840, 2842, 2844, 2846, 2848, 2860, 2862, 2864, 2866, 2868, 2880, 2882, 2884, 2886, 2888]\n"
     ]
    }
   ],
   "source": [
    "def find_even_digit_numbers():\n",
    "    \"\"\"\n",
    "    Finds all numbers between 1000 and 3000 where all the digits are even.\n",
    "    \n",
    "    Returns:\n",
    "    list: A list of such numbers.\n",
    "    \"\"\"\n",
    "    even_digit_numbers = []\n",
    "    for num in range(1000, 3001):\n",
    "        digits = str(num)\n",
    "        if all(int(digit) % 2 == 0 for digit in digits): \n",
    "            even_digit_numbers.append(num)\n",
    "    return even_digit_numbers\n",
    "even_numbers = find_even_digit_numbers()\n",
    "print(even_numbers)"
   ]
  },
  {
   "cell_type": "markdown",
   "id": "644c82f5-0289-4495-a897-1a51209f3a66",
   "metadata": {},
   "source": [
    "# Task7:\r\n",
    "You need to write a code which accepts a sequence of comma separated 4 digit\r\n",
    "binary numbers as its input and then check whether they are divisible by 5 or not.\r\n",
    "The numbers that are divisible by 5 are to be printed in a comma separated\r\n",
    "sequence.\r\n",
    "Example:\r\n",
    "0100,0011,1010,1001\r\n",
    "Then the output should be:Reference: https://www.datacamp.com/.../python-data-type-conversion\r\n",
    "1010 \r"
   ]
  },
  {
   "cell_type": "code",
   "execution_count": 10,
   "id": "bbf3f855-9df8-4358-a164-1cf872ff7023",
   "metadata": {},
   "outputs": [
    {
     "name": "stdin",
     "output_type": "stream",
     "text": [
      "Enter a sequence of comma-separated 4-digit binary numbers:  0100,0011,1010,1001\n"
     ]
    },
    {
     "name": "stdout",
     "output_type": "stream",
     "text": [
      "1010\n"
     ]
    }
   ],
   "source": [
    "def filter_divisible_by_5(binary_numbers):\n",
    "    \"\"\"\n",
    "    Filters and returns binary numbers that are divisible by 5.\n",
    "    \n",
    "    Args:\n",
    "    binary_numbers (list of str): A list of 4-digit binary numbers as strings.\n",
    "    \n",
    "    Returns:\n",
    "    str: Comma-separated binary numbers divisible by 5.\n",
    "    \"\"\"\n",
    "    divisible_by_5 = []\n",
    "    for binary in binary_numbers:\n",
    "        decimal = int(binary, 2)\n",
    "        if decimal % 5 == 0:\n",
    "            divisible_by_5.append(binary)\n",
    "    \n",
    "    return \",\".join(divisible_by_5)\n",
    "input_sequence = input(\"Enter a sequence of comma-separated 4-digit binary numbers: \")\n",
    "binary_numbers = input_sequence.split(\",\")\n",
    "result = filter_divisible_by_5(binary_numbers)\n",
    "print(result)"
   ]
  },
  {
   "cell_type": "markdown",
   "id": "04c01061-ac80-4b9a-a705-2ecbf0bef0f4",
   "metadata": {},
   "source": [
    "# Task8:\r\n",
    "Write a program that accepts a sentence and calculate the number of letters and\r\n",
    "digits.\r\n",
    "Suppose the following input is supplied to the program:\r\n",
    "hello world! 123\r\n",
    "Then, the output should be:\r\n",
    "LETTERS 10\r\n",
    "DIGITS 3 "
   ]
  },
  {
   "cell_type": "code",
   "execution_count": 11,
   "id": "d28c4484-92fd-487d-8768-b0b3784b9bcb",
   "metadata": {},
   "outputs": [
    {
     "name": "stdin",
     "output_type": "stream",
     "text": [
      "Enter a sentence:  i don't like sun\n"
     ]
    },
    {
     "name": "stdout",
     "output_type": "stream",
     "text": [
      "LETTERS 12\n",
      "DIGITS 0\n"
     ]
    }
   ],
   "source": [
    "sentence = input(\"Enter a sentence: \")\n",
    "letter_count = 0\n",
    "digit_count = 0\n",
    "for char in sentence:\n",
    "    if char.isalpha(): \n",
    "        letter_count += 1\n",
    "    elif char.isdigit(): \n",
    "        digit_count += 1\n",
    "print(f\"LETTERS {letter_count}\")\n",
    "print(f\"DIGITS {digit_count}\")"
   ]
  },
  {
   "cell_type": "code",
   "execution_count": null,
   "id": "c362c420-0437-4bb9-88e3-924efacb5c10",
   "metadata": {},
   "outputs": [],
   "source": []
  },
  {
   "cell_type": "code",
   "execution_count": null,
   "id": "cae0e92e-a811-418d-911a-ff1edd801f3d",
   "metadata": {},
   "outputs": [],
   "source": []
  }
 ],
 "metadata": {
  "kernelspec": {
   "display_name": "Python 3 (ipykernel)",
   "language": "python",
   "name": "python3"
  },
  "language_info": {
   "codemirror_mode": {
    "name": "ipython",
    "version": 3
   },
   "file_extension": ".py",
   "mimetype": "text/x-python",
   "name": "python",
   "nbconvert_exporter": "python",
   "pygments_lexer": "ipython3",
   "version": "3.11.7"
  }
 },
 "nbformat": 4,
 "nbformat_minor": 5
}
